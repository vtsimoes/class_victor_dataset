{
  "cells": [
    {
      "cell_type": "markdown",
      "metadata": {
        "id": "view-in-github",
        "colab_type": "text"
      },
      "source": [
        "<a href=\"https://colab.research.google.com/github/vtsimoes/class_victor_dataset/blob/main/G_ULMFiT_classifier.ipynb\" target=\"_parent\"><img src=\"https://colab.research.google.com/assets/colab-badge.svg\" alt=\"Open In Colab\"/></a>"
      ]
    },
    {
      "cell_type": "markdown",
      "metadata": {
        "id": "UImqzUlOteAG"
      },
      "source": [
        "##Instalação das bibliotecas"
      ]
    },
    {
      "cell_type": "code",
      "execution_count": null,
      "metadata": {
        "id": "BI61_gYJPhql"
      },
      "outputs": [],
      "source": [
        "!pip install wandb"
      ]
    },
    {
      "cell_type": "code",
      "execution_count": null,
      "metadata": {
        "id": "yEB-xLBrU5r2"
      },
      "outputs": [],
      "source": [
        "!pip install fastai==1.0.61"
      ]
    },
    {
      "cell_type": "code",
      "execution_count": null,
      "metadata": {
        "id": "uUYlc65nZqpM"
      },
      "outputs": [],
      "source": [
        "!pip install spacy==2.3.9"
      ]
    },
    {
      "cell_type": "code",
      "execution_count": null,
      "metadata": {
        "id": "QSzX31poFdLP"
      },
      "outputs": [],
      "source": [
        "!pip show spacy"
      ]
    },
    {
      "cell_type": "code",
      "execution_count": null,
      "metadata": {
        "id": "q8s0-q5kv680"
      },
      "outputs": [],
      "source": [
        "!pip install colormap"
      ]
    },
    {
      "cell_type": "markdown",
      "metadata": {
        "id": "5a8ayp3qJOvg"
      },
      "source": [
        "## Carregamento das bibliotecas"
      ]
    },
    {
      "cell_type": "code",
      "execution_count": null,
      "metadata": {
        "id": "0rh4drzDNGO2"
      },
      "outputs": [],
      "source": [
        "import pickle\n",
        "from google.colab import drive\n",
        "import os\n",
        "import IPython\n",
        "from fastai import *\n",
        "from fastai.text import *\n",
        "from fastai.callbacks import *\n",
        "from multiprocessing import cpu_count\n",
        "from fastai.utils.ipython import *\n",
        "from fastai.basics import *\n",
        "import re\n",
        "import warnings\n",
        "import wandb\n",
        "from fastai.metrics import *\n",
        "from fastai.metrics import CMScores\n",
        "from sklearn.metrics import balanced_accuracy_score\n",
        "from sklearn.metrics import f1_score\n",
        "from sklearn.metrics import matthews_corrcoef\n",
        "from datetime import datetime, timedelta\n",
        "import matplotlib.cm as cm\n",
        "import time\n",
        "%matplotlib inline"
      ]
    },
    {
      "cell_type": "code",
      "execution_count": null,
      "metadata": {
        "id": "_Yioxl4WYsJn"
      },
      "outputs": [],
      "source": [
        "import pickle\n",
        "from google.colab import drive\n",
        "from sklearn.metrics import balanced_accuracy_score\n",
        "from sklearn.metrics import f1_score\n",
        "from sklearn.metrics import matthews_corrcoef"
      ]
    },
    {
      "cell_type": "markdown",
      "metadata": {
        "id": "YDcix22ltjzf"
      },
      "source": [
        "## Nome do treinamento e locais de salvamento"
      ]
    },
    {
      "cell_type": "code",
      "execution_count": null,
      "metadata": {
        "colab": {
          "base_uri": "https://localhost:8080/"
        },
        "id": "a8VMKEg1Pzqk",
        "outputId": "08e402f2-9091-4d4b-8c2b-b3fe67620cc2"
      },
      "outputs": [
        {
          "output_type": "stream",
          "name": "stdout",
          "text": [
            "Drive already mounted at /content/drive/; to attempt to forcibly remount, call drive.mount(\"/content/drive/\", force_remount=True).\n"
          ]
        }
      ],
      "source": [
        "\n",
        "path_dados = '' #path com dados pre-processados\n",
        "path_model = '' #path com modelo ULMFiT com ajuste fino\n",
        "path_results = path_model + 'Resultados/'\n",
        "#Montando o google drive para obter os dados\n",
        "drive.mount('/content/drive/')"
      ]
    },
    {
      "cell_type": "code",
      "execution_count": null,
      "metadata": {
        "id": "d0Yje6YqRKT1"
      },
      "outputs": [],
      "source": [
        "def save_pickle(data_to_save,path='',filename='file.pkl'):\n",
        "  open_file = open(path + filename, \"wb\")\n",
        "  pickle.dump(data_to_save, open_file)\n",
        "  open_file.close()\n",
        "\n",
        "def load_pickle(path='',filename='file.pkl'):\n",
        "  open_file = open(path + filename, \"rb\")\n",
        "  pkl_file = pickle.load(open_file)\n",
        "  open_file.close()\n",
        "  return pkl_file"
      ]
    },
    {
      "cell_type": "code",
      "execution_count": null,
      "metadata": {
        "id": "bSKEKwawlAME"
      },
      "outputs": [],
      "source": [
        "DATASET = 'O100'\n",
        "MAX_FEATURES = 70000\n",
        "DIRECTION = 'BW'\n",
        "NB_CLASS = 6 if DATASET != 'NO' else 5\n",
        "CLASSIFICADOR = 'ULMFiT'\n",
        "EMBEDDING_DIM = MAX_FEATURES  # Size of vocabulary\n",
        "BATCH_SIZE = 32\n",
        "EPOCHS = 20\n",
        "GRAM = 'UNI'\n",
        "FT = 'VICTOR'\n",
        "WD = 0.01\n",
        "LOSSFUNC = 'weighted-xentropy'\n",
        "MAX_LEN = 3000\n",
        "NOME_RUNNING = f'{CLASSIFICADOR}-{FT}-{DIRECTION}-{BATCH_SIZE}-{GRAM}-{DATASET}-{MAX_LEN}'\n",
        "experiment = {'CLASSIFICADOR':CLASSIFICADOR,'FINE_TUNNING':FT,'BATCH_SIZE':BATCH_SIZE,'GRAM':GRAM,'LOSSFUNC':LOSSFUNC,'WD':WD,'EPOCHS':EPOCHS,'HISTORY_FILE':f'{NOME_RUNNING}'}\n",
        "path_experiment = path_results + NOME_RUNNING\n",
        "NOME_RUNNING"
      ]
    },
    {
      "cell_type": "code",
      "execution_count": null,
      "metadata": {
        "id": "QUtmgkZClL6p"
      },
      "outputs": [],
      "source": [
        "if not os.path.exists(path_experiment):\n",
        "  os.makedirs(path_experiment)"
      ]
    },
    {
      "cell_type": "code",
      "execution_count": null,
      "metadata": {
        "colab": {
          "base_uri": "https://localhost:8080/"
        },
        "id": "xCdMETUFPu8I",
        "outputId": "f9c986fa-9192-4bbd-be2c-08b134f2b4c2"
      },
      "outputs": [
        {
          "output_type": "stream",
          "name": "stdout",
          "text": [
            "drive/MyDrive/MestradoTucurui/Experiments/ULMFiT\n"
          ]
        }
      ],
      "source": [
        "bs = BATCH_SIZE\n",
        "data_path = Path(path_model)\n",
        "print(data_path)"
      ]
    },
    {
      "cell_type": "code",
      "execution_count": null,
      "metadata": {
        "id": "2npEAD-eQFuz"
      },
      "outputs": [],
      "source": [
        "lang = 'pt'\n",
        "path = data_path\n",
        "modelsdir = path/Path('ulmfit_portuguese/')"
      ]
    },
    {
      "cell_type": "code",
      "execution_count": null,
      "metadata": {
        "id": "eZveIqBOQgRT"
      },
      "outputs": [],
      "source": [
        "torch.cuda.set_device(0)\n",
        "!nvidia-smi"
      ]
    },
    {
      "cell_type": "code",
      "execution_count": null,
      "metadata": {
        "id": "erTv6SlkQ_yp"
      },
      "outputs": [],
      "source": [
        "import warnings\n",
        "warnings.filterwarnings('ignore')"
      ]
    },
    {
      "cell_type": "code",
      "execution_count": null,
      "metadata": {
        "id": "kS_EyPulShsa"
      },
      "outputs": [],
      "source": [
        "import joblib\n",
        "if DIRECTION == 'FW':\n",
        "  with open(path / 'ulmfit_portuguese/vocab-fwd.joblib', \"rb\") as f:\n",
        "    vocab = joblib.load(f)\n",
        "else:\n",
        "  with open(path / 'ulmfit_portuguese/vocab-bwd.joblib', \"rb\") as f:\n",
        "    vocab = joblib.load(f)\n"
      ]
    },
    {
      "cell_type": "code",
      "execution_count": null,
      "metadata": {
        "colab": {
          "base_uri": "https://localhost:8080/"
        },
        "id": "8CzSL2PJV-N8",
        "outputId": "18bafeb2-eba2-429b-d15b-fe35106a8d07"
      },
      "outputs": [
        {
          "output_type": "execute_result",
          "data": {
            "text/plain": [
              "16"
            ]
          },
          "metadata": {},
          "execution_count": 21
        }
      ],
      "source": [
        "import gc\n",
        "gc.collect()"
      ]
    },
    {
      "cell_type": "markdown",
      "metadata": {
        "id": "9vQE693IIyJj"
      },
      "source": [
        "## Carregamento dos Dados"
      ]
    },
    {
      "cell_type": "code",
      "execution_count": null,
      "metadata": {
        "id": "7CEDqL8r9fkx"
      },
      "outputs": [],
      "source": [
        "def get_dataset(DATASET,train,valid,test,train_O10=None,valid_O10=None):\n",
        "  if DATASET == 'NO':\n",
        "    train = train.loc[train.document_type != 'outros']\n",
        "    valid = valid.loc[valid.document_type != 'outros']\n",
        "    test = test.loc[test.document_type != 'outros']\n",
        "  elif DATASET == 'O10' and train_O10 is not None and valid_O10 is not None:\n",
        "    train_filename = train.loc[train.file_name.isin(train_O10)]\n",
        "    train = pd.concat([train_filename,train.loc[train.document_type != 'outros']], ignore_index=True, sort=False)\n",
        "    valid_filename = valid.loc[valid.file_name.isin(valid_O10)]\n",
        "    valid = pd.concat([valid_filename,valid.loc[valid.document_type != 'outros']], ignore_index=True, sort=False)\n",
        "  return train,valid,test"
      ]
    },
    {
      "cell_type": "code",
      "execution_count": null,
      "metadata": {
        "id": "yrunrBpqU13P"
      },
      "outputs": [],
      "source": [
        "train_O10_filenames = load_pickle(path=path_dados,filename='filenames_train_O10.pkl')\n",
        "valid_O10_filenames = load_pickle(path=path_dados,filename='filenames_valid_O10.pkl')"
      ]
    },
    {
      "cell_type": "code",
      "execution_count": null,
      "metadata": {
        "id": "cWUguVJs9qIt"
      },
      "outputs": [],
      "source": [
        "doc_train = load_pickle(path = path_dados,filename='train_processed_concat_pages_sw.pkl')\n",
        "doc_valid = load_pickle(path = path_dados,filename='valid_processed_concat_pages_sw.pkl')\n",
        "doc_test = load_pickle(path = path_dados,filename='test_processed_concat_pages_sw.pkl')"
      ]
    },
    {
      "cell_type": "code",
      "execution_count": null,
      "metadata": {
        "id": "8wVtmG9l9xq9"
      },
      "outputs": [],
      "source": [
        "doc_train,doc_valid,doc_test = get_dataset(DATASET,doc_train,doc_valid,doc_test,train_O10=None,valid_O10=None)"
      ]
    },
    {
      "cell_type": "code",
      "execution_count": null,
      "metadata": {
        "id": "tGktVJqTRH9_"
      },
      "outputs": [],
      "source": [
        "doc_train.rename(columns={'body':'text','document_type':'label'},inplace=True)\n",
        "doc_valid.rename(columns={'body':'text','document_type':'label'},inplace=True)\n",
        "doc_test.rename(columns={'body':'text','document_type':'label'},inplace=True)"
      ]
    },
    {
      "cell_type": "markdown",
      "metadata": {
        "id": "ZqQk-QAEuZrI"
      },
      "source": [
        "## Montagem dos datasets para treinamento"
      ]
    },
    {
      "cell_type": "code",
      "execution_count": null,
      "metadata": {
        "id": "ZmltVjgp7TuH"
      },
      "outputs": [],
      "source": [
        "doc_train['is_valid'] = False\n",
        "doc_valid['is_valid'] = True\n",
        "df_train = doc_train.append(doc_valid,ignore_index=True)\n",
        "df_train.columns"
      ]
    },
    {
      "cell_type": "code",
      "execution_count": null,
      "metadata": {
        "id": "rB9Iefid4mGz"
      },
      "outputs": [],
      "source": [
        "%%time\n",
        "backwards = True if DIRECTION == 'BW' else False\n",
        "data_clas = (TextList.from_df(df_train, path, vocab=vocab, cols='text').split_from_df(col='is_valid').label_from_df(cols='label').databunch(bs=bs, num_workers=14, backwards=backwards))"
      ]
    },
    {
      "cell_type": "code",
      "execution_count": null,
      "metadata": {
        "colab": {
          "base_uri": "https://localhost:8080/"
        },
        "id": "GpAEfRNn3ES8",
        "outputId": "db3db5f3-c2c7-4fd7-b32a-5aa077739979"
      },
      "outputs": [
        {
          "output_type": "execute_result",
          "data": {
            "text/plain": [
              "PosixPath('drive/MyDrive/MestradoTucurui/Experiments/ULMFiT/Dados')"
            ]
          },
          "metadata": {},
          "execution_count": 30
        }
      ],
      "source": [
        "data_clas.path = Path(path_model+'/Dados')"
      ]
    },
    {
      "cell_type": "code",
      "execution_count": null,
      "metadata": {
        "id": "4ykNFKbyb9MH"
      },
      "outputs": [],
      "source": [
        "only_new_vocab = list(set(data_clas.vocab.itos) - set(vocab.itos))\n",
        "only_old_vocab = list(set(vocab.itos) - set(data_clas.vocab.itos))\n",
        "both_vocab = list(set(vocab.itos) & set(data_clas.vocab.itos))\n",
        "len(only_new_vocab),len(only_old_vocab),len(both_vocab)"
      ]
    },
    {
      "cell_type": "code",
      "execution_count": null,
      "metadata": {
        "id": "i_8MsIk9a0ch"
      },
      "outputs": [],
      "source": [
        "%%time\n",
        "data_clas.save(f'{DATASET}_textlist_60k_ulmfit_{DIRECTION}')"
      ]
    },
    {
      "cell_type": "code",
      "execution_count": null,
      "metadata": {
        "id": "AcFQyk59bEaj"
      },
      "outputs": [],
      "source": [
        "data_clas.show_batch()"
      ]
    },
    {
      "cell_type": "markdown",
      "metadata": {
        "id": "3aGPy4D-u1AY"
      },
      "source": [
        "## Cáculo de métricas"
      ]
    },
    {
      "cell_type": "code",
      "execution_count": null,
      "metadata": {
        "id": "AnKRiR57PtT7"
      },
      "outputs": [],
      "source": [
        "@np_func\n",
        "def f1micro(inp,targ): return f1_score(targ, np.argmax(inp, axis=-1), average='micro')\n",
        "\n",
        "@np_func\n",
        "def f1macro(inp,targ): return f1_score(targ, np.argmax(inp, axis=-1), average='macro')\n",
        "\n",
        "@np_func\n",
        "def f1weighted(inp,targ): return f1_score(targ, np.argmax(inp, axis=-1), average='weighted')\n",
        "\n",
        "@np_func\n",
        "def bacca(inp,targ): return balanced_accuracy_score(targ, np.argmax(inp, axis=-1), adjusted=True) #0 random 1 perfect\n",
        "\n",
        "@np_func\n",
        "def bacc(inp,targ): return balanced_accuracy_score(targ, np.argmax(inp, axis=-1), adjusted=False) # 1 perfect\n",
        "\n",
        "@np_func\n",
        "def f1binary(inp,targ): return f1_score(targ, np.argmax(inp, axis=-1), average='binary')\n",
        "\n",
        "@np_func\n",
        "def mcc(inp,targ): return matthews_corrcoef(targ, np.argmax(inp, axis=-1))"
      ]
    },
    {
      "cell_type": "code",
      "execution_count": null,
      "metadata": {
        "colab": {
          "base_uri": "https://localhost:8080/",
          "height": 75
        },
        "id": "sqSKnH1_oxmp",
        "outputId": "72182867-7433-4bec-e088-87ffe786a6d6"
      },
      "outputs": [
        {
          "data": {
            "text/html": [
              "\n",
              "                <audio  controls=\"controls\" autoplay=\"autoplay\">\n",
              "                    <source src=\"data:audio/mpeg;base64,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\" type=\"audio/mpeg\" />\n",
              "                    Your browser does not support the audio element.\n",
              "                </audio>\n",
              "              "
            ],
            "text/plain": [
              "<IPython.lib.display.Audio object>"
            ]
          },
          "metadata": {},
          "output_type": "display_data"
        }
      ],
      "source": [
        "beep()"
      ]
    },
    {
      "cell_type": "markdown",
      "metadata": {
        "id": "2vcFb13uvBHi"
      },
      "source": [
        "## Carregamento do modelo pré-treinado"
      ]
    },
    {
      "cell_type": "code",
      "execution_count": null,
      "metadata": {
        "id": "2oLMem93dBjy"
      },
      "outputs": [],
      "source": [
        "from torch.autograd import backward\n",
        "all_metrics = [accuracy, error_rate, mcc,f1macro,f1weighted,f1micro]\n",
        "learn_c = text_classifier_learner(data_clas, AWD_LSTM, pretrained=False, drop_mult=0.3,\n",
        "                                  metrics=all_metrics, lin_ftrs=[100],max_len=MAX_LEN).to_fp16()"
      ]
    },
    {
      "cell_type": "code",
      "execution_count": null,
      "metadata": {
        "id": "sgVTn0CCHI-R"
      },
      "outputs": [],
      "source": [
        "learn_c.path = Path(path_model)\n",
        "if DIRECTION == 'FW':\n",
        "  learn_c.load_encoder('encoder_ft_victor_fw')\n",
        "else:\n",
        "  learn_c.load_encoder('encoder_ft_victor_bw')\n",
        "  print('Carregando modelo BW')"
      ]
    },
    {
      "cell_type": "code",
      "execution_count": null,
      "metadata": {
        "id": "cvTBXTNPeSYE"
      },
      "outputs": [],
      "source": [
        "learn_c.loss_func,learn_c.path"
      ]
    },
    {
      "cell_type": "code",
      "execution_count": null,
      "metadata": {
        "id": "TOA0SkmdeUsS"
      },
      "outputs": [],
      "source": [
        "num_trn = len(data_clas.train_ds.x)\n",
        "num_val = len(data_clas.valid_ds.x)\n",
        "num_trn, num_val, num_trn+num_val"
      ]
    },
    {
      "cell_type": "code",
      "execution_count": null,
      "metadata": {
        "id": "7LwFKB0LeY0U"
      },
      "outputs": [],
      "source": [
        "trn_LabelCounts = np.unique(data_clas.train_ds.y.items, return_counts=True)[1]\n",
        "val_LabelCounts = np.unique(data_clas.valid_ds.y.items, return_counts=True)[1]\n",
        "trn_LabelCounts, val_LabelCounts"
      ]
    },
    {
      "cell_type": "code",
      "execution_count": null,
      "metadata": {
        "id": "53PEfd2neay1"
      },
      "outputs": [],
      "source": [
        "trn_weights = [1 - count/num_trn for count in trn_LabelCounts]\n",
        "val_weights = [1 - count/num_val for count in val_LabelCounts]\n",
        "trn_weights, val_weights"
      ]
    },
    {
      "cell_type": "code",
      "execution_count": null,
      "metadata": {
        "id": "oR4dK_VCei6y"
      },
      "outputs": [],
      "source": [
        "loss_weights = torch.FloatTensor(trn_weights).cuda()\n",
        "learn_c.loss_func = CrossEntropyFlat(weight=loss_weights )\n",
        "learn_c.loss_func,learn_c.loss_func.weight"
      ]
    },
    {
      "cell_type": "markdown",
      "metadata": {
        "id": "BcNKNqQC6g6g"
      },
      "source": [
        "### Identificando o melhor parâmetro de taxa de aprendizado"
      ]
    },
    {
      "cell_type": "code",
      "execution_count": null,
      "metadata": {
        "id": "xkuSSEvwewkN"
      },
      "outputs": [],
      "source": [
        "with gpu_mem_restore_ctx():\n",
        "    learn_c.lr_find()\n",
        "learn_c.recorder.plot(suggestion=True)"
      ]
    },
    {
      "cell_type": "code",
      "execution_count": null,
      "metadata": {
        "colab": {
          "base_uri": "https://localhost:8080/"
        },
        "id": "j9s6-Mz_gJMi",
        "outputId": "ac930d8d-84c8-40cd-cab5-3a599fb197d6"
      },
      "outputs": [
        {
          "output_type": "stream",
          "name": "stdout",
          "text": [
            "0.001 32\n",
            "0.01\n"
          ]
        }
      ],
      "source": [
        "lr = 1e-3\n",
        "print(lr, bs)\n",
        "wd = WD\n",
        "experiment['lr'] = lr\n",
        "print(wd)"
      ]
    },
    {
      "cell_type": "markdown",
      "metadata": {
        "id": "UG6rX628vS8f"
      },
      "source": [
        "### Definindo Callbacks"
      ]
    },
    {
      "cell_type": "code",
      "execution_count": null,
      "metadata": {
        "id": "g7sR9DvwgdsF"
      },
      "outputs": [],
      "source": [
        "learn_c.path = Path(path_experiment)\n",
        "callbacks=[SaveModelCallback(learn_c, monitor='valid_loss', name=NOME_RUNNING, mode='min'),CSVLogger(learn = learn_c, filename=experiment['HISTORY_FILE'],append=True),ShowGraph(learn_c),EarlyStoppingCallback(learn=learn_c,monitor='valid_loss',mode='min',patience=5)]"
      ]
    },
    {
      "cell_type": "markdown",
      "metadata": {
        "id": "7kkuRQRlwQxp"
      },
      "source": [
        "## Executando o Treinamento"
      ]
    },
    {
      "cell_type": "code",
      "execution_count": null,
      "metadata": {
        "id": "5R8OCOgzgtwH"
      },
      "outputs": [],
      "source": [
        "learn_c.freeze();"
      ]
    },
    {
      "cell_type": "code",
      "execution_count": null,
      "metadata": {
        "id": "ELlNw1UwgwWY"
      },
      "outputs": [],
      "source": [
        "tempo1 = time.time()\n",
        "with gpu_mem_restore_ctx():\n",
        "    learn_c.fit_one_cycle(int(EPOCHS*0.2), lr, wd=wd,\n",
        "                          moms=(0.8,0.7),\n",
        "                          callbacks=callbacks)"
      ]
    },
    {
      "cell_type": "code",
      "execution_count": null,
      "metadata": {
        "id": "o8QYcScMpw4H"
      },
      "outputs": [],
      "source": [
        "tempo_2 = time.time()\n",
        "tempo_total = tempo_2-tempo1"
      ]
    },
    {
      "cell_type": "code",
      "execution_count": null,
      "metadata": {
        "id": "by1RsJ5JhFpu"
      },
      "outputs": [],
      "source": [
        "learn_c.freeze_to(-2)\n",
        "tempo_1 = time.time()\n",
        "with gpu_mem_restore_ctx():\n",
        "    learn_c.fit_one_cycle(int(EPOCHS*0.2), slice(lr/(2.6**4),lr), wd=wd,\n",
        "                          moms=(0.8,0.7),\n",
        "                          callbacks=callbacks)"
      ]
    },
    {
      "cell_type": "code",
      "execution_count": null,
      "metadata": {
        "id": "xRyHGrUtqES7"
      },
      "outputs": [],
      "source": [
        "tempo_2 = time.time()\n",
        "tempo_total = tempo_total + (tempo_2-tempo_1)"
      ]
    },
    {
      "cell_type": "code",
      "execution_count": null,
      "metadata": {
        "id": "5X-XYsl8hIaS"
      },
      "outputs": [],
      "source": [
        "learn_c.freeze_to(-3)\n",
        "tempo_1 = time.time()\n",
        "with gpu_mem_restore_ctx():\n",
        "    learn_c.fit_one_cycle(int(EPOCHS*0.2), slice(lr/2/(2.6**4),lr/2), wd=wd,\n",
        "                          moms=(0.8,0.7),\n",
        "                          callbacks=callbacks)"
      ]
    },
    {
      "cell_type": "code",
      "execution_count": null,
      "metadata": {
        "id": "BDS3xoYtqKz7"
      },
      "outputs": [],
      "source": [
        "tempo_2 = time.time()\n",
        "tempo_total = tempo_total + (tempo_2-tempo_1)"
      ]
    },
    {
      "cell_type": "code",
      "execution_count": null,
      "metadata": {
        "colab": {
          "base_uri": "https://localhost:8080/"
        },
        "id": "NzQQxM9zDkKd",
        "outputId": "7b78a166-5ea6-4fbc-9b11-d08372631891"
      },
      "outputs": [
        {
          "output_type": "execute_result",
          "data": {
            "text/plain": [
              "0"
            ]
          },
          "metadata": {},
          "execution_count": 54
        }
      ],
      "source": [
        "import gc\n",
        "gc.collect()"
      ]
    },
    {
      "cell_type": "code",
      "execution_count": null,
      "metadata": {
        "id": "tEn2wz5qhL37"
      },
      "outputs": [],
      "source": [
        "tempo_1 = time.time()\n",
        "with gpu_mem_restore_ctx():\n",
        "    learn_c.unfreeze()\n",
        "    learn_c.fit_one_cycle(int(EPOCHS*0.4), slice(lr/10/(2.6**4),lr/10), wd=wd,\n",
        "                          moms=(0.8,0.7),\n",
        "                          callbacks=callbacks)"
      ]
    },
    {
      "cell_type": "code",
      "execution_count": null,
      "metadata": {
        "id": "v9L1GE9xqU4M"
      },
      "outputs": [],
      "source": [
        "tempo_2 = time.time()\n",
        "tempo_total = tempo_total + (tempo_2-tempo_1)"
      ]
    },
    {
      "cell_type": "code",
      "execution_count": null,
      "metadata": {
        "id": "tsZro74eByjJ"
      },
      "outputs": [],
      "source": [
        "target = learn_c.data.classes\n",
        "save_pickle(learn_c.data.classes,path=path_experiment,filename='/label_classes.pkl')"
      ]
    },
    {
      "cell_type": "code",
      "execution_count": null,
      "metadata": {
        "id": "prGLJA-DwW2D"
      },
      "outputs": [],
      "source": [
        "learn_c.model._forward_hooks = OrderedDict()\n",
        "learn_c.to_fp32().export(NOME_RUNNING+'_exported')"
      ]
    },
    {
      "cell_type": "markdown",
      "metadata": {
        "id": "R6xMPQoAhSMO"
      },
      "source": [
        "#Cálculo das métricas Para Teste"
      ]
    },
    {
      "cell_type": "code",
      "execution_count": null,
      "metadata": {
        "id": "Ck_2cPSTRFA0"
      },
      "outputs": [],
      "source": [
        "from sklearn.metrics import f1_score\n",
        "from sklearn.metrics import classification_report\n",
        "from sklearn.metrics import precision_recall_fscore_support\n",
        "from sklearn.metrics import confusion_matrix, ConfusionMatrixDisplay\n",
        "import matplotlib.pyplot as plt"
      ]
    },
    {
      "cell_type": "code",
      "execution_count": null,
      "metadata": {
        "id": "IEOyQ-3GpUSU"
      },
      "outputs": [],
      "source": [
        "def calculate_metrics(y_true,y_pred):\n",
        "  f1score = f1_score(y_true, y_pred,average='macro')\n",
        "  scores = precision_recall_fscore_support(y_true, y_pred,average=None)\n",
        "  confusion = confusion_matrix(y_true, y_pred)\n",
        "  report = classification_report(y_true,y_pred,digits=5)\n",
        "  report_as_dict = classification_report(y_true,y_pred,digits=5,output_dict=True)\n",
        "  mcc_test = matthews_corrcoef(y_true,y_pred)\n",
        "  #loss = {'val_loss':history.history['val_loss'],'loss':history.history['loss'],'acc':history.history['accuracy'],'val_acc':history.history['val_accuracy']}\n",
        "  fig, ax = plt.subplots(figsize=(10, 10))\n",
        "  ConfusionMatrixDisplay.from_predictions(y_true,y_pred,values_format='.2f',normalize='true',ax=ax,xticks_rotation='vertical')\n",
        "  return f1score,scores,confusion,report,report_as_dict,mcc_test"
      ]
    },
    {
      "cell_type": "code",
      "execution_count": null,
      "metadata": {
        "id": "KK_VRE6sSVqE"
      },
      "outputs": [],
      "source": [
        "def print_results(report,f1,mcc_test,time_process):\n",
        "  print(report)\n",
        "  print(\"F1-score Médio de Teste : \" + str(f1))\n",
        "  print(\"MCC de Teste: \" + str(mcc_test))\n",
        "  print(\"Tempo de processamento total: \" + str(time_process) + ' s')"
      ]
    },
    {
      "cell_type": "code",
      "execution_count": null,
      "metadata": {
        "id": "TxVj3a6YpVKo"
      },
      "outputs": [],
      "source": [
        "def saveModelResults(conf,f1,scores,time,classes,report,mcc,experimento,report_as_dicts,path,y_pred,y_true,loss,decimal_preds,tipo=\"results\"):\n",
        "  score = {'confusion':conf,'f1score':f1,'scores':scores,'mcc_test':mcc,'time':time,'report':report, 'report_as_dict':report_as_dicts,'experimento': experimento,'classes':classes,'y_pred':y_pred,'y_true':y_true,'decimal_preds':decimal_preds}\n",
        "  filename = tipo+'.pkl'\n",
        "  save_pickle(score,path=path,filename=filename)\n",
        "  return score"
      ]
    },
    {
      "cell_type": "markdown",
      "metadata": {
        "id": "T1k1fTyXwvRK"
      },
      "source": [
        "### Carregando dados de Teste"
      ]
    },
    {
      "cell_type": "code",
      "execution_count": null,
      "metadata": {
        "id": "7kf5IfYYxrDW"
      },
      "outputs": [],
      "source": [
        "target_dict = {'acordao_de_2_instancia':0,\n",
        " 'agravo_em_recurso_extraordinario':1,\n",
        " 'despacho_de_admissibilidade':2,\n",
        " 'outros': 3,\n",
        " 'peticao_do_RE':4,\n",
        " 'sentenca':5}"
      ]
    },
    {
      "cell_type": "code",
      "execution_count": null,
      "metadata": {
        "colab": {
          "base_uri": "https://localhost:8080/"
        },
        "id": "x1Y58TDMxfjM",
        "outputId": "b453aea1-8dc2-4117-a11e-d0692a47f157"
      },
      "outputs": [
        {
          "output_type": "execute_result",
          "data": {
            "text/plain": [
              "array(['outros', 'despacho_de_admissibilidade', 'sentenca', 'agravo_em_recurso_extraordinario', 'peticao_do_RE',\n",
              "       'acordao_de_2_instancia'], dtype=object)"
            ]
          },
          "metadata": {},
          "execution_count": 65
        }
      ],
      "source": [
        "#df=doc_test\n",
        "doc_test['document_type_name'] = doc_test['label']\n",
        "doc_test.replace({\"label\": target_dict},inplace=True)\n",
        "doc_test.document_type_name.unique()"
      ]
    },
    {
      "cell_type": "code",
      "execution_count": null,
      "metadata": {
        "colab": {
          "base_uri": "https://localhost:8080/",
          "height": 17
        },
        "id": "rTo2pQxxRzn9",
        "outputId": "5ddd0519-ad96-400b-9eb9-5111c02742a0"
      },
      "outputs": [
        {
          "output_type": "display_data",
          "data": {
            "text/plain": [
              "<IPython.core.display.HTML object>"
            ],
            "text/html": [
              "\n",
              "<style>\n",
              "    /* Turns off some styling */\n",
              "    progress {\n",
              "        /* gets rid of default border in Firefox and Opera. */\n",
              "        border: none;\n",
              "        /* Needs to be in here for Safari polyfill so background images work as expected. */\n",
              "        background-size: auto;\n",
              "    }\n",
              "    progress:not([value]), progress:not([value])::-webkit-progress-bar {\n",
              "        background: repeating-linear-gradient(45deg, #7e7e7e, #7e7e7e 10px, #5c5c5c 10px, #5c5c5c 20px);\n",
              "    }\n",
              "    .progress-bar-interrupted, .progress-bar-interrupted::-webkit-progress-bar {\n",
              "        background: #F44336;\n",
              "    }\n",
              "</style>\n"
            ]
          },
          "metadata": {}
        },
        {
          "output_type": "display_data",
          "data": {
            "text/plain": [
              "<IPython.core.display.HTML object>"
            ],
            "text/html": []
          },
          "metadata": {}
        }
      ],
      "source": [
        "learn_c.data.add_test(doc_test.text.values)"
      ]
    },
    {
      "cell_type": "markdown",
      "metadata": {
        "id": "dZtSujMnyNu2"
      },
      "source": [
        "### Executando Teste"
      ]
    },
    {
      "cell_type": "code",
      "execution_count": null,
      "metadata": {
        "id": "JH084QUxhR2b"
      },
      "outputs": [],
      "source": [
        "y_test = doc_test.document_type_name.values\n",
        "tempo_1 = time.time()\n",
        "#preds,y,losses = learn_fwd.get_preds(ds_type=DatasetType.Test,with_loss=True,ordered=True) #preds = valores decimais, y = inteiros indicando a classe, mas vale apenas para treino e validação\n",
        "preds,y,losses = learn_c.get_preds(ds_type=DatasetType.Test,with_loss=True,ordered=True) #preds = valores decimais, y = inteiros indicando a classe, mas vale apenas para treino e validação\n",
        "infer = (time.time() - tempo_1)/len(y_test)\n",
        "infer"
      ]
    },
    {
      "cell_type": "code",
      "execution_count": null,
      "metadata": {
        "id": "t5hZ5vJiSryd"
      },
      "outputs": [],
      "source": [
        "predictions = np.argmax(preds, axis = 1)\n",
        "y_pred = predictions.numpy()"
      ]
    },
    {
      "cell_type": "markdown",
      "metadata": {
        "id": "BjIK2VItWm4x"
      },
      "source": [
        "Convertendo números para labels"
      ]
    },
    {
      "cell_type": "code",
      "execution_count": null,
      "metadata": {
        "id": "WS6iHBm-g64i"
      },
      "outputs": [],
      "source": [
        "y_pred_label = [target[pred] for pred in y_pred]\n",
        "f1score,scores,confusion,report,report_as_dict,mcc_test = calculate_metrics(y_test,y_pred_label)"
      ]
    },
    {
      "cell_type": "code",
      "execution_count": null,
      "metadata": {
        "id": "YqgPqJyHGm7f"
      },
      "outputs": [],
      "source": [
        "tempo = {'train':tempo_total,'infer':infer}\n",
        "dict_results = saveModelResults(confusion,f1score,scores,tempo,target,report,mcc_test,NOME_RUNNING,report_as_dict,path_experiment+'/',y_pred_label,y_test,None,preds,tipo=\"results\")"
      ]
    },
    {
      "cell_type": "code",
      "execution_count": null,
      "metadata": {
        "id": "gWC7a_Nid9EY"
      },
      "outputs": [],
      "source": [
        "print_results(report,f1score,mcc_test,tempo_total)"
      ]
    },
    {
      "cell_type": "markdown",
      "metadata": {
        "id": "nt-BiZXXyl76"
      },
      "source": [
        "# Executando Resultados para BW e FW"
      ]
    },
    {
      "cell_type": "code",
      "execution_count": null,
      "metadata": {
        "colab": {
          "base_uri": "https://localhost:8080/",
          "height": 35
        },
        "id": "a2RgddtpiwoM",
        "outputId": "e7fa8893-7163-4276-be20-d1fe219650b4"
      },
      "outputs": [
        {
          "output_type": "execute_result",
          "data": {
            "text/plain": [
              "'ULMFiT-VICTOR-FWBW-32-UNI-O100-3000'"
            ],
            "application/vnd.google.colaboratory.intrinsic+json": {
              "type": "string"
            }
          },
          "metadata": {},
          "execution_count": 80
        }
      ],
      "source": [
        "NOME_RUNNING = f'{CLASSIFICADOR}-{FT}-FWBW-{BATCH_SIZE}-{GRAM}-{DATASET}-{MAX_LEN}'\n",
        "NOME_RUNNING"
      ]
    },
    {
      "cell_type": "code",
      "execution_count": null,
      "metadata": {
        "colab": {
          "base_uri": "https://localhost:8080/",
          "height": 35
        },
        "id": "ABo3AryKjP3g",
        "outputId": "295d9a80-d927-4d6e-e157-fd6831c696c6"
      },
      "outputs": [
        {
          "output_type": "execute_result",
          "data": {
            "text/plain": [
              "'drive/MyDrive/MestradoTucurui/Experiments/ULMFiT/Resultados/ULMFiT-VICTOR-FWBW-32-UNI-O100-3000'"
            ],
            "application/vnd.google.colaboratory.intrinsic+json": {
              "type": "string"
            }
          },
          "metadata": {},
          "execution_count": 81
        }
      ],
      "source": [
        "path_experiment = path_results + NOME_RUNNING\n",
        "if not os.path.exists(path_experiment):\n",
        "  os.makedirs(path_experiment)\n",
        "path_experiment"
      ]
    },
    {
      "cell_type": "code",
      "execution_count": null,
      "metadata": {
        "id": "fNXrACA_esML"
      },
      "outputs": [],
      "source": [
        "results_fw = load_pickle(path=path_results+'ULMFiT-ELIAS-FW-64-UNI-O100/',filename='results.pkl')\n",
        "results_bw = load_pickle(path=path_results+'ULMFiT-ELIAS-BW-64-UNI-O100/',filename='results.pkl')"
      ]
    },
    {
      "cell_type": "code",
      "execution_count": null,
      "metadata": {
        "id": "EMy112UGaTEw"
      },
      "outputs": [],
      "source": [
        "import torch"
      ]
    },
    {
      "cell_type": "code",
      "execution_count": null,
      "metadata": {
        "id": "v4KoiicpysD6"
      },
      "outputs": [],
      "source": [
        "predictions_bw_fw = (results_fw['decimal_preds'] + results_bw['decimal_preds'])/2\n",
        "preds_bw_fw = torch.argmax(predictions_bw_fw,axis=1)\n",
        "y_pred = preds_bw_fw.numpy()"
      ]
    },
    {
      "cell_type": "code",
      "execution_count": null,
      "metadata": {
        "id": "MVEooa4baf2z"
      },
      "outputs": [],
      "source": [
        "target = results_fw['classes']\n",
        "y_test = results_fw['y_true']"
      ]
    },
    {
      "cell_type": "code",
      "execution_count": null,
      "metadata": {
        "id": "vckr10i3gw7I"
      },
      "outputs": [],
      "source": [
        "y_pred_label = [target[pred] for pred in y_pred]\n",
        "f1score,scores,confusion,report,report_as_dict,mcc_test = calculate_metrics(y_test,y_pred_label)"
      ]
    },
    {
      "cell_type": "code",
      "execution_count": null,
      "metadata": {
        "id": "5VqkQ6V-iUoQ"
      },
      "outputs": [],
      "source": [
        "print_results(report,f1score,mcc_test,0)"
      ]
    },
    {
      "cell_type": "code",
      "execution_count": null,
      "metadata": {
        "id": "MCTBWIvoiT1x"
      },
      "outputs": [],
      "source": [
        "tempo = {'train':results_fw['time']['train']+results_bw['time']['train'],'infer':results_fw['time']['infer']+results_bw['time']['infer']}\n",
        "dict_results = saveModelResults(confusion,f1score,scores,tempo,target,report,mcc_test,NOME_RUNNING,report_as_dict,path_experiment+'/',y_pred_label,y_test,None,predictions_bw_fw,tipo=\"results\")"
      ]
    }
  ],
  "metadata": {
    "accelerator": "GPU",
    "colab": {
      "collapsed_sections": [
        "3aGPy4D-u1AY"
      ],
      "machine_shape": "hm",
      "provenance": [],
      "gpuType": "V100",
      "include_colab_link": true
    },
    "kernelspec": {
      "display_name": "Python 3",
      "name": "python3"
    },
    "language_info": {
      "name": "python"
    }
  },
  "nbformat": 4,
  "nbformat_minor": 0
}