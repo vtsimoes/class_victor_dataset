{
  "nbformat": 4,
  "nbformat_minor": 0,
  "metadata": {
    "colab": {
      "provenance": [],
      "machine_shape": "hm",
      "collapsed_sections": [
        "4Gu2qiKFmUa7",
        "yp8Yx-zWq1Ig"
      ],
      "include_colab_link": true
    },
    "kernelspec": {
      "name": "python3",
      "display_name": "Python 3"
    },
    "language_info": {
      "name": "python"
    },
    "gpuClass": "standard"
  },
  "cells": [
    {
      "cell_type": "markdown",
      "metadata": {
        "id": "view-in-github",
        "colab_type": "text"
      },
      "source": [
        "<a href=\"https://colab.research.google.com/github/vtsimoes/class_victor_dataset/blob/main/G_Transforma_Dataset_VICTOR.ipynb\" target=\"_parent\"><img src=\"https://colab.research.google.com/assets/colab-badge.svg\" alt=\"Open In Colab\"/></a>"
      ]
    },
    {
      "cell_type": "markdown",
      "source": [
        "#Representação Computacional dos documentos do DATASET VICTOR para TF-IDF, Word2Vec e FastText.\n"
      ],
      "metadata": {
        "id": "AwQCEj3o2Qgj"
      }
    },
    {
      "cell_type": "code",
      "execution_count": null,
      "metadata": {
        "id": "_6t0w4oZ18WA"
      },
      "outputs": [],
      "source": [
        "#Load required libraries\n",
        "import os\n",
        "import numpy as np\n",
        "import pandas as pd\n",
        "import nltk\n",
        "from nltk.tokenize import sent_tokenize, word_tokenize\n",
        "from nltk.corpus import stopwords\n",
        "from nltk.probability import FreqDist\n",
        "nltk.download('stopwords')\n",
        "nltk.download('punkt')\n",
        "nltk.download('rslp')\n",
        "from collections import Counter\n",
        "import matplotlib.pyplot as plt\n",
        "from matplotlib import pylab\n",
        "import time\n",
        "import pickle\n",
        "from google.colab import drive\n",
        "import string\n",
        "from sklearn.feature_extraction.text import CountVectorizer\n",
        "import seaborn as sns\n",
        "from sklearn.feature_extraction.text import TfidfVectorizer\n",
        "from gensim.models import KeyedVectors\n",
        "from gensim.models.word2vec import LineSentence\n",
        "from gensim.models.callbacks import CallbackAny2Vec"
      ]
    },
    {
      "cell_type": "markdown",
      "source": [
        "Funções para salvar os dados pré-processados"
      ],
      "metadata": {
        "id": "dHMuRRJZGvDv"
      }
    },
    {
      "cell_type": "code",
      "source": [
        "#Montando o google drive para obter os dados\n",
        "def save_pickle(data_to_save,path='',filename='file.pkl'):\n",
        "  open_file = open(os.path.join(path,filename), \"wb\")\n",
        "  pickle.dump(data_to_save, open_file)\n",
        "  open_file.close()\n",
        "\n",
        "def load_pickle(path='',filename='file.pkl'):\n",
        "  open_file = open(path + filename, \"rb\")\n",
        "  pkl_file = pickle.load(open_file)\n",
        "  open_file.close()\n",
        "  return pkl_file"
      ],
      "metadata": {
        "id": "FQexe0JLGvb_"
      },
      "execution_count": null,
      "outputs": []
    },
    {
      "cell_type": "code",
      "source": [
        "path = '' #path com os dados pré-processados\n",
        "path_transformados = '' #path para salvar os documentos transformados\n",
        "tf_idf = 'TF-IDF'\n",
        "word2vec = 'Word2Vec'\n",
        "path_models = 'Models'\n",
        "path_w2v_nilc = 'skip_nilc_word2vec' # path com os vetores pré-treinados do NILC/USP\n",
        "#Montando o google drive para obter os dados\n",
        "drive.mount('/content/drive/')"
      ],
      "metadata": {
        "id": "LYhCRv6oG4JH",
        "colab": {
          "base_uri": "https://localhost:8080/"
        },
        "outputId": "9e554901-c622-4997-9ede-763034a9897e"
      },
      "execution_count": null,
      "outputs": [
        {
          "output_type": "stream",
          "name": "stdout",
          "text": [
            "Mounted at /content/drive/\n"
          ]
        }
      ]
    },
    {
      "cell_type": "code",
      "source": [
        "path_dados_word2vec = os.path.join(path_transformados,word2vec,path_models)\n",
        "path_dados_word2vec"
      ],
      "metadata": {
        "id": "xh3v1ErtMPJ8"
      },
      "execution_count": null,
      "outputs": []
    },
    {
      "cell_type": "markdown",
      "source": [
        "##TF-IDF\n",
        "\n",
        "Para aplicação no SVM e Regressão Logística, a geração do modelo TF-IDF vai incluir apenas os dados de treino"
      ],
      "metadata": {
        "id": "01DfWno740fk"
      }
    },
    {
      "cell_type": "code",
      "source": [
        "doc_train = load_pickle(path=path,filename='train_processed_concat_pages_sw_lemma.pkl')"
      ],
      "metadata": {
        "id": "x-W3IEwG42Fz"
      },
      "execution_count": null,
      "outputs": []
    },
    {
      "cell_type": "code",
      "source": [
        "def TF_IDFTransform(data,model=None,max_vocab=70000,gram=(1,1)):\n",
        "  sentences = data.body\n",
        "\n",
        "  if model:\n",
        "    sparse_tfidf = model.transform(sentences)\n",
        "    tf_idf_model = model\n",
        "  else:\n",
        "    tf_idf_model = TfidfVectorizer(ngram_range=gram,sublinear_tf=True,max_features=max_vocab,min_df=2,max_df=0.5)\n",
        "    tf_idf_model.fit(sentences)\n",
        "    sparse_tfidf = tf_idf_model.transform(sentences)\n",
        "  return sparse_tfidf,tf_idf_model"
      ],
      "metadata": {
        "id": "Ru287WrC85gr"
      },
      "execution_count": null,
      "outputs": []
    },
    {
      "cell_type": "code",
      "source": [
        "train_tfidf_values,tfidf_model = TF_IDFTransform(doc_train,model=None,max_vocab=70000,gram=(1,1)) #para a formação de bigram usar gram=(1,2)\n",
        "train_tfidf= {'vector':train_tfidf_values,'labels':doc_train.document_type.values,'file_name':doc_train.file_name.values,'pages':doc_train.pages.values}\n",
        "del(doc_train)"
      ],
      "metadata": {
        "id": "DneO-Is298Kq"
      },
      "execution_count": null,
      "outputs": []
    },
    {
      "cell_type": "markdown",
      "source": [
        "Empregando o modelo criado com o conjunto de validação e teste.\n",
        "\n",
        "---\n",
        "\n"
      ],
      "metadata": {
        "id": "bxLBGMsrAKr8"
      }
    },
    {
      "cell_type": "code",
      "source": [
        "doc_test = load_pickle(path=path,filename='test_processed_concat_pages_lemma.pkl')\n",
        "doc_valid = load_pickle(path=path,filename='valid_processed_concat_pages_lemma.pkl')"
      ],
      "metadata": {
        "id": "7Bdn-PMSj51M"
      },
      "execution_count": null,
      "outputs": []
    },
    {
      "cell_type": "code",
      "source": [
        "test_tfidf_values,_ = TF_IDFTransform(doc_test,model=tfidf_model,max_vocab=70000)\n",
        "test_tfidf = {'vector':test_tfidf_values,'labels':doc_test.document_type.values,'file_name':doc_test.file_name.values,'pages':doc_test.pages.values}\n",
        "del(doc_test)"
      ],
      "metadata": {
        "id": "zNHJYUfE-ooE"
      },
      "execution_count": null,
      "outputs": []
    },
    {
      "cell_type": "code",
      "source": [
        "valid_tfidf_values,_ = TF_IDFTransform(doc_valid,model=tfidf_model,max_vocab=70000)\n",
        "valid_tfidf = {'vector':valid_tfidf_values,'labels':doc_valid.document_type.values,'file_name':doc_valid.file_name.values,'pages':doc_valid.pages.values}\n",
        "del(doc_valid)"
      ],
      "metadata": {
        "id": "haNi64sukg4Z"
      },
      "execution_count": null,
      "outputs": []
    },
    {
      "cell_type": "markdown",
      "source": [
        "Salvando os dados e o modelo para utilização futura"
      ],
      "metadata": {
        "id": "Ahx0SIsFApfF"
      }
    },
    {
      "cell_type": "code",
      "source": [
        "save_pickle(train_tfidf,path=path_transformados,filename='train_tfidf_small_70K_O100.pkl') #small indica que o TF-IDF sofreu um maior pré-processamento\n",
        "save_pickle(test_tfidf,path=path_transformados,filename='test_tfidf_small_70K_O100.pkl')\n",
        "save_pickle(valid_tfidf,path=path_transformados,filename='valid_tfidf_small_70K_O100.pkl')\n",
        "save_pickle(tfidf_model,path=path_transformados+tf_idf+'/'+path_models,filename='model_tfidf_small_70K_O100.pkl')"
      ],
      "metadata": {
        "id": "8Nh4_egv-svD"
      },
      "execution_count": null,
      "outputs": []
    },
    {
      "cell_type": "code",
      "source": [
        "del(test_tfidf)\n",
        "del(train_tfidf)\n",
        "del(tfidf_model)\n",
        "del(valid_tfidf)"
      ],
      "metadata": {
        "id": "eHFe_vqUCqK1"
      },
      "execution_count": null,
      "outputs": []
    },
    {
      "cell_type": "markdown",
      "source": [
        "Gerando TF-IDF para o conjunto NO"
      ],
      "metadata": {
        "id": "kKVc1DCxgSrK"
      }
    },
    {
      "cell_type": "code",
      "source": [
        "doc_train = load_pickle(path=path,filename='train_processed_concat_pages_lemma.pkl')\n",
        "doc_train = doc_train.loc[doc_train.document_type != 'outros']\n",
        "doc_valid = load_pickle(path=path,filename='valid_processed_concat_pages_lemma.pkl')\n",
        "doc_valid = doc_valid.loc[doc_valid.document_type != 'outros']\n",
        "doc_test = load_pickle(path=path,filename='test_processed_concat_pages_lemma.pkl')\n",
        "doc_test = doc_test.loc[doc_test.document_type != 'outros']"
      ],
      "metadata": {
        "id": "R8-xn7z0nECu"
      },
      "execution_count": null,
      "outputs": []
    },
    {
      "cell_type": "code",
      "source": [
        "train_tfidf_NO,tfidf_model_NO = TF_IDFTransform(doc_train,model=None,max_vocab=70000)"
      ],
      "metadata": {
        "id": "uVILvfzfgV23"
      },
      "execution_count": null,
      "outputs": []
    },
    {
      "cell_type": "code",
      "source": [
        "test_tfidf_NO,_ = TF_IDFTransform(doc_test,model=tfidf_model_NO,max_vocab=70000)\n",
        "valid_tfidf_NO,_ = TF_IDFTransform(doc_valid,model=tfidf_model_NO,max_vocab=70000)"
      ],
      "metadata": {
        "id": "vqtPw81Un3Jz"
      },
      "execution_count": null,
      "outputs": []
    },
    {
      "cell_type": "code",
      "source": [
        "train_tfidf = {'vector':train_tfidf_NO,'labels':doc_train.document_type.values,'file_name':doc_train.file_name.values,'pages':doc_train.pages.values}\n",
        "test_tfidf = {'vector':test_tfidf_NO,'labels':doc_test.document_type.values,'file_name':doc_test.file_name.values,'pages':doc_test.pages.values}\n",
        "valid_tfidf = {'vector':valid_tfidf_NO,'labels':doc_valid.document_type.values,'file_name':doc_valid.file_name.values,'pages':doc_valid.pages.values}"
      ],
      "metadata": {
        "id": "OdQlRxOZg8rM"
      },
      "execution_count": null,
      "outputs": []
    },
    {
      "cell_type": "code",
      "source": [
        "save_pickle(train_tfidf,path=path_transformados,filename='train_tfidf_small_70K_NO.pkl')\n",
        "save_pickle(test_tfidf,path=path_transformados,filename='test_tfidf_small_70K_NO.pkl')\n",
        "save_pickle(valid_tfidf,path=path_transformados,filename='valid_tfidf_small_70K_NO.pkl')\n",
        "save_pickle(tfidf_model_NO,path=path_transformados+tf_idf+'/'+path_models,filename='model_tfidf_small_70K_NO.pkl')"
      ],
      "metadata": {
        "id": "9VRy7VcDg47I"
      },
      "execution_count": null,
      "outputs": []
    },
    {
      "cell_type": "code",
      "source": [
        "del(train_tfidf_NO)\n",
        "del(tfidf_model_NO,test_tfidf_NO,valid_tfidf_NO)\n",
        "del(train_tfidf,test_tfidf,valid_tfidf)"
      ],
      "metadata": {
        "id": "3mE8C7N0p1tK"
      },
      "execution_count": null,
      "outputs": []
    },
    {
      "cell_type": "markdown",
      "source": [
        "## Gerando TF-IDF para dataset O10"
      ],
      "metadata": {
        "id": "VR_4_0a2uOxQ"
      }
    },
    {
      "cell_type": "code",
      "source": [
        "doc_train = load_pickle(path=path,filename='train_processed_concat_pages_lemma.pkl')\n",
        "doc_valid = load_pickle(path=path,filename='valid_processed_concat_pages_lemma.pkl')\n",
        "train_O10_filenames = load_pickle(path=path,filename='filenames_train_O10.pkl')\n",
        "valid_O10_filenames = load_pickle(path=path,filename='filenames_valid_O10.pkl')"
      ],
      "metadata": {
        "id": "fUTLbv5KuSxU"
      },
      "execution_count": null,
      "outputs": []
    },
    {
      "cell_type": "code",
      "source": [
        "doc_train_O10 = doc_train.loc[doc_train.file_name.isin(train_O10_filenames)]\n",
        "doc_train_O10 = pd.concat([doc_train_O10,doc_train.loc[doc_train.document_type != 'outros']], ignore_index=True, sort=False)\n",
        "doc_valid_O10 = doc_valid.loc[doc_valid.file_name.isin(valid_O10_filenames)]\n",
        "doc_valid_O10 = pd.concat([doc_valid_O10,doc_valid.loc[doc_valid.document_type != 'outros']], ignore_index=True, sort=False)"
      ],
      "metadata": {
        "id": "d_JKuWHqvo5f"
      },
      "execution_count": null,
      "outputs": []
    },
    {
      "cell_type": "code",
      "source": [
        "del(doc_train,doc_valid)"
      ],
      "metadata": {
        "id": "yxTYtSffwLK5"
      },
      "execution_count": null,
      "outputs": []
    },
    {
      "cell_type": "code",
      "source": [
        "model_tf_idf = load_pickle(path=path_transformados+'TF-IDF/Models/',filename='model_tfidf_small_70K_O100.pkl')"
      ],
      "metadata": {
        "id": "xj_l40Z9u0-U"
      },
      "execution_count": null,
      "outputs": []
    },
    {
      "cell_type": "code",
      "source": [
        "train_tfidf_values_O10,_ = TF_IDFTransform(doc_train_O10,model=model_tf_idf,max_vocab=70000)\n",
        "train_tfidf_O10 = {'vector':train_tfidf_values_O10,'labels':doc_train_O10.document_type.values,'file_name':doc_train_O10.file_name.values,'pages':doc_train_O10.pages.values}"
      ],
      "metadata": {
        "id": "EkK_6pXfvXY1"
      },
      "execution_count": null,
      "outputs": []
    },
    {
      "cell_type": "code",
      "source": [
        "valid_tfidf_values_O10,_ = TF_IDFTransform(doc_valid_O10,model=model_tf_idf,max_vocab=70000)\n",
        "valid_tfidf_O10 = {'vector':valid_tfidf_values_O10,'labels':doc_valid_O10.document_type.values,'file_name':doc_valid_O10.file_name.values,'pages':doc_valid_O10.pages.values}"
      ],
      "metadata": {
        "id": "9UihkF6DwlUq"
      },
      "execution_count": null,
      "outputs": []
    },
    {
      "cell_type": "code",
      "source": [
        "save_pickle(train_tfidf_O10 ,path=os.path.join(path_transformados,tf_idf),filename='train_tfidf_small_70K_O10.pkl')\n",
        "save_pickle(valid_tfidf_O10,path=os.path.join(path_transformados,tf_idf),filename='valid_tfidf_small_70K_O10.pkl')"
      ],
      "metadata": {
        "id": "VHvBio_kw9EP"
      },
      "execution_count": null,
      "outputs": []
    },
    {
      "cell_type": "markdown",
      "source": [
        "#Representação com Word2Vec"
      ],
      "metadata": {
        "id": "fN7JaXR1rvp7"
      }
    },
    {
      "cell_type": "markdown",
      "source": [
        "##Geração de vetores Word2Vec a partir dos dados de Treino\n"
      ],
      "metadata": {
        "id": "ZMuLWJO7BgYt"
      }
    },
    {
      "cell_type": "code",
      "source": [
        "path_models_word2vec = os.path.join(path_transformados,word2vec,path_models,path_w2v_nilc) #carregando os vetores pré-treinados do NILC"
      ],
      "metadata": {
        "id": "vBIfB_06nDtj"
      },
      "execution_count": null,
      "outputs": []
    },
    {
      "cell_type": "code",
      "source": [
        "from gensim.models import Word2Vec\n",
        "loss_word2vec = []"
      ],
      "metadata": {
        "id": "AI3uCDwGD-ny"
      },
      "execution_count": null,
      "outputs": []
    },
    {
      "cell_type": "code",
      "source": [
        "class callback(CallbackAny2Vec):\n",
        "    '''Callback to print loss after each epoch.'''\n",
        "\n",
        "    def __init__(self):\n",
        "        self.epoch = 0\n",
        "        self.loss_to_be_subed = 0\n",
        "\n",
        "    def on_epoch_end(self, model):\n",
        "        loss = model.get_latest_training_loss()\n",
        "        model.save(os.path.join(path_dados_word2vec,f'epoch-{self.epoch}-w2v-600-model.model'))\n",
        "        vecs = model.wv\n",
        "        vecs.save(os.path.join(path_dados_word2vec,f'epoch-{self.epoch}-w2v-600-model.vector'))\n",
        "        loss_now = loss - self.loss_to_be_subed\n",
        "        loss_word2vec.append(loss_now)\n",
        "        self.loss_to_be_subed = loss\n",
        "        print('Loss after epoch {}: {}'.format(self.epoch, loss_now))\n",
        "        self.epoch += 1"
      ],
      "metadata": {
        "id": "HN6DQ05P5irm"
      },
      "execution_count": null,
      "outputs": []
    },
    {
      "cell_type": "code",
      "source": [
        "doc_train = load_pickle(path=path,filename='train_processed_concat_pages.pkl')\n",
        "docs = doc_train.body.apply(lambda x: x.split())"
      ],
      "metadata": {
        "id": "Pqr3TDH3Bf0G"
      },
      "execution_count": null,
      "outputs": []
    },
    {
      "cell_type": "code",
      "source": [
        "tamanho = 600 #tamanho do vetor de representação da palavra artigo de Word2Vec em português (NILC) e MPPR\n",
        "window = 10 #tamanho da janela empregada no processo de treinamento, artigo do mikolov e MPPR\n",
        "iter = 10 #número de épocas a ser definido com eraly stopping\n",
        "sg = 1 #define o skip-gram como arquitetura\n",
        "alpha=0.025 #taxa de aprendizado (Mikolov)\n",
        "max_vocab = 70000\n",
        "min_count = 5 #(MPPR)"
      ],
      "metadata": {
        "id": "gbC9TXnfEBaz"
      },
      "execution_count": null,
      "outputs": []
    },
    {
      "cell_type": "code",
      "source": [
        "#Treinamento dos vetores com Word2Vec\n",
        "w2v_model = Word2Vec(docs, vector_size=tamanho, workers=4, window=window, epochs=iter,sg=sg,alpha=alpha, min_count=min_count,max_vocab_size=max_vocab,compute_loss=True,callbacks=[callback()] )"
      ],
      "metadata": {
        "id": "m9oeeEGZGBGh"
      },
      "execution_count": null,
      "outputs": []
    },
    {
      "cell_type": "code",
      "source": [
        "import matplotlib.pyplot as plt\n",
        "import numpy as np"
      ],
      "metadata": {
        "id": "AIjZNLsUE8NL"
      },
      "execution_count": null,
      "outputs": []
    },
    {
      "cell_type": "code",
      "source": [
        "\n",
        "\n",
        "ypoints = np.log(loss_word2vec)\n",
        "xpoints = range(1,len(loss_word2vec)+1)\n",
        "\n",
        "plt.plot(xpoints, ypoints)\n",
        "plt.ylabel('log(Loss)')\n",
        "plt.xlabel('Época')\n",
        "plt.grid()\n",
        "plt.suptitle('Logarítmo do Erro (Loss) por época de treinamento dos vetores especializados Word2Vec')\n",
        "plt.show()\n"
      ],
      "metadata": {
        "id": "GUde3QiSD8lA"
      },
      "execution_count": null,
      "outputs": []
    },
    {
      "cell_type": "markdown",
      "source": [
        "Salvando o modelo e os dados transformados"
      ],
      "metadata": {
        "id": "xqYHEHyrMNCZ"
      }
    },
    {
      "cell_type": "code",
      "source": [
        "w2v_model.save(path_transformados+path_models+'word2vec_10_epochs_600_70K.model')\n",
        "vectors = w2v_model.wv\n",
        "vectors.save(path_transformados+path_models+'word2vec_10_epochs_600_70K.vector')\n",
        "save_pickle(loss_word2vec,path=path_transformados+word2vec+'/'+path_models,filename='word2vec_loss_600_epochs-0-10.pkl')"
      ],
      "metadata": {
        "id": "BYJ_e9WyML3s"
      },
      "execution_count": null,
      "outputs": []
    },
    {
      "cell_type": "code",
      "source": [
        "save_pickle(loss_word2vec,path=path_transformados+path_models,filename='word2vec_loss_600_100O.pkl')\n",
        "del(w2v_model)"
      ],
      "metadata": {
        "id": "KFAEukBPFmWc"
      },
      "execution_count": null,
      "outputs": []
    },
    {
      "cell_type": "markdown",
      "source": [
        "##Gerando representação dos documentos com Word2Vec\n"
      ],
      "metadata": {
        "id": "KLXEufT5h41p"
      }
    },
    {
      "cell_type": "code",
      "source": [
        "doc_train = load_pickle(path=path,filename='train_processed_concat_pages.pkl')\n",
        "doc_valid = load_pickle(path=path,filename='valid_processed_concat_pages.pkl')\n",
        "doc_test = load_pickle(path=path,filename='test_processed_concat_pages.pkl')"
      ],
      "metadata": {
        "id": "upYt2KGYNE8_"
      },
      "execution_count": null,
      "outputs": []
    },
    {
      "cell_type": "code",
      "source": [
        "seq_len = 1530\n",
        "size_ebd = 600"
      ],
      "metadata": {
        "id": "bK3ON4yOOm41"
      },
      "execution_count": null,
      "outputs": []
    },
    {
      "cell_type": "code",
      "source": [
        "# Método para representação computacional a partir dos vetores de embedding, a variável model pode ser do modelo genérico ou especializado\n",
        "def doc2vector(data,model,tipo='mean',seq_len=500,tfidf=False,size_ebd=300,tfidf_model=None,sparse_tfidf=None):\n",
        "  doc_vecs = []\n",
        "  labels = []\n",
        "  files = []\n",
        "  i=0\n",
        "  for i, row in data.iterrows():\n",
        "    #emb = [model[w] for text in data.body for w in text[0:seq_len] if w in model]\n",
        "    words = row.body.split()[0:seq_len]\n",
        "    #print(words)\n",
        "    words = [w for w in words if w in model]\n",
        "    emb = [model[w] for w in words]\n",
        "    labels.append(row.document_type)\n",
        "    if len(emb) == 0:\n",
        "        doc_vecs.append(np.zeros(size_ebd, dtype=np.float32))\n",
        "    else:\n",
        "      doc_vecs.append(np.mean(emb,axis=0))\n",
        "      #vecs.append(emb[0:500])\n",
        "    #i = 1 + i\n",
        "    files.append(row.file_name)\n",
        "  #return doc_vecs,vecs\n",
        "  data_dict = {'w2v':np.array(doc_vecs),'labels':np.array(labels),'filename':np.array(files)}\n",
        "  return data_dict"
      ],
      "metadata": {
        "id": "rioj5AX-Ag8y"
      },
      "execution_count": null,
      "outputs": []
    },
    {
      "cell_type": "code",
      "source": [
        "#Unzip no arquivo baixado do NILC, somente se ainda não foi descompactado\n",
        "from zipfile import ZipFile\n",
        "zip_nilc_600 = os.path.join(path_dados_word2vec_nilc,'skip_s600.zip')\n",
        "with ZipFile(zip_nilc_600, 'r') as zObject:\n",
        "  zObject.extractall(path=path_dados_word2vec_nilc)"
      ],
      "metadata": {
        "id": "Gqd4ofYZKFoG"
      },
      "execution_count": null,
      "outputs": []
    },
    {
      "cell_type": "markdown",
      "source": [
        "### Representação Com Word2Vec pré-treinado do NILC (600) ou especializado"
      ],
      "metadata": {
        "id": "ryXHqEjZq8rD"
      }
    },
    {
      "cell_type": "markdown",
      "source": [
        "Carregando os vetores do modelos Word2Vec"
      ],
      "metadata": {
        "id": "SITzrNd1rtNL"
      }
    },
    {
      "cell_type": "code",
      "source": [
        "from gensim.models import Word2Vec\n",
        "vectors = KeyedVectors.load_word2vec_format(os.path.join(path_dados_word2vec_nilc,'skip_s600.txt')) #usando o modelo genérico do NILC"
      ],
      "metadata": {
        "id": "KV1u7GWirz9N"
      },
      "execution_count": null,
      "outputs": []
    },
    {
      "cell_type": "markdown",
      "source": [
        "#### Transformação dos Dados de Treino"
      ],
      "metadata": {
        "id": "AmuVfklRAA5a"
      }
    },
    {
      "cell_type": "code",
      "source": [
        "#vector_size = model_w2vec_nilc.vector_size\n",
        "vector_size = tamanho\n",
        "w2v_train = doc2vector(doc_train,vectors,tipo='mean',seq_len=seq_len,tfidf=False,size_ebd=vector_size,tfidf_model=None,sparse_tfidf=None)\n",
        "save_pickle(w2v_train,path=os.path.join(path_transformados,word2vec),filename='train_w2v_600_1530_specialized_O100.pkl') #OK"
      ],
      "metadata": {
        "id": "XteeTRbGsii8"
      },
      "execution_count": null,
      "outputs": []
    },
    {
      "cell_type": "code",
      "source": [
        "w2v_train_NO = doc2vector(doc_train.loc[doc_train.document_type != 'outros'],vectors,tipo='mean',seq_len=seq_len,tfidf=False,size_ebd=vector_size,tfidf_model=None,sparse_tfidf=None)\n",
        "save_pickle(w2v_train_NO,path=os.path.join(path_transformados,word2vec),filename='train_w2v_600_1530_specialized_NO.pkl') #OK"
      ],
      "metadata": {
        "id": "mBZLrs89d3pi"
      },
      "execution_count": null,
      "outputs": []
    },
    {
      "cell_type": "markdown",
      "source": [
        "Gerando Vetor com filenames aletórios para o conjunto de treino O10."
      ],
      "metadata": {
        "id": "FDFTgG-Cfa8p"
      }
    },
    {
      "cell_type": "code",
      "source": [
        "import random\n",
        "def index_sample(data,percent):\n",
        "  data_o = data.loc[data.document_type == 'outros']\n",
        "  filenames_o = data_o.file_name.values\n",
        "  sampled = random.sample(list(filenames_o),int(0.10*len(filenames_o)))\n",
        "  return sampled"
      ],
      "metadata": {
        "id": "cRuH1ZKfflC-"
      },
      "execution_count": null,
      "outputs": []
    },
    {
      "cell_type": "code",
      "source": [
        "filenames_O10 = load_pickle(path=path,filename='filenames_train_O10.pkl')"
      ],
      "metadata": {
        "id": "BqUdl_Mo_vq7"
      },
      "execution_count": null,
      "outputs": []
    },
    {
      "cell_type": "code",
      "source": [
        "#filenames_O10 = index_sample(doc_train,0.10)\n",
        "#save_pickle(filenames_O10,path=path,filename='filenames_train_O10.pkl')\n",
        "doc_train_O10 = doc_train.loc[doc_train.file_name.isin(filenames_O10)]\n",
        "doc_train_O10 = pd.concat([doc_train_O10,doc_train.loc[doc_train.document_type != 'outros']], ignore_index=True, sort=False)"
      ],
      "metadata": {
        "id": "I-ysPtS-ey0C"
      },
      "execution_count": null,
      "outputs": []
    },
    {
      "cell_type": "code",
      "source": [
        "w2v_train_O10 = doc2vector(doc_train_O10,vectors,tipo='mean',seq_len=seq_len,tfidf=False,size_ebd=vector_size,tfidf_model=None,sparse_tfidf=None)\n",
        "save_pickle(w2v_train_O10,path=os.path.join(path_transformados,word2vec),filename='train_w2v_600_1530_specialized_O10.pkl') #OK"
      ],
      "metadata": {
        "id": "wwBL38DHetdA"
      },
      "execution_count": null,
      "outputs": []
    },
    {
      "cell_type": "code",
      "source": [
        "del(doc_train,doc_train_O10)\n",
        "del(w2v_train_O10,w2v_train_NO,w2v_train)"
      ],
      "metadata": {
        "id": "p1L-qSYbce0D"
      },
      "execution_count": null,
      "outputs": []
    },
    {
      "cell_type": "markdown",
      "source": [
        "#### Transformação dos dados de Validação"
      ],
      "metadata": {
        "id": "4Gu2qiKFmUa7"
      }
    },
    {
      "cell_type": "code",
      "source": [
        "w2v_valid = doc2vector(doc_valid,vectors,tipo='mean',seq_len=seq_len,tfidf=False,size_ebd=vector_size,tfidf_model=None,sparse_tfidf=None)\n",
        "save_pickle(w2v_valid,path=os.path.join(path_transformados,word2vec),filename='valid_w2v_600_1530_specialized_O100.pkl') #OK"
      ],
      "metadata": {
        "id": "G3AmvKIhSDnp"
      },
      "execution_count": null,
      "outputs": []
    },
    {
      "cell_type": "code",
      "source": [
        "w2v_valid_NO = doc2vector(doc_valid.loc[doc_valid.document_type != 'outros'],vectors,tipo='mean',seq_len=seq_len,tfidf=False,size_ebd=vector_size,tfidf_model=None,sparse_tfidf=None)\n",
        "save_pickle(w2v_valid_NO,path=os.path.join(path_transformados,word2vec),filename='valid_w2v_600_1530_specialized_NO.pkl')"
      ],
      "metadata": {
        "id": "NC4XXND4my7-"
      },
      "execution_count": null,
      "outputs": []
    },
    {
      "cell_type": "markdown",
      "source": [
        "Definição do conjunto aleatório de documentos O10 para validação"
      ],
      "metadata": {
        "id": "owTEYz4Bp3uX"
      }
    },
    {
      "cell_type": "code",
      "source": [
        "#filenames_O10 = index_sample(doc_valid,0.10)\n",
        "#save_pickle(filenames_O10,path=path,filename='filenames_valid_O10.pkl')\n",
        "filenames_O10 = load_pickle(path=path,filename='filenames_valid_O10.pkl')\n",
        "doc_valid_O10 = doc_valid.loc[doc_valid.file_name.isin(filenames_O10)]\n",
        "doc_valid_O10 = pd.concat([doc_valid_O10,doc_valid.loc[doc_valid.document_type != 'outros']], ignore_index=True, sort=False)"
      ],
      "metadata": {
        "id": "yAQDo_G4pzEB"
      },
      "execution_count": null,
      "outputs": []
    },
    {
      "cell_type": "code",
      "source": [
        "w2v_valid_O10 = doc2vector(doc_valid_O10,vectors,tipo='mean',seq_len=seq_len,tfidf=False,size_ebd=vector_size,tfidf_model=None,sparse_tfidf=None)\n",
        "save_pickle(w2v_valid_O10,path=os.path.join(path_transformados,word2vec),filename='valid_w2v_600_1530_specialized_O10.pkl') #OK"
      ],
      "metadata": {
        "id": "Q_y0XlLJqRFR"
      },
      "execution_count": null,
      "outputs": []
    },
    {
      "cell_type": "code",
      "source": [
        "del(doc_valid,doc_valid_O10,w2v_valid,w2v_valid_NO,w2v_valid_O10)"
      ],
      "metadata": {
        "id": "WeUx7gDfrCPq"
      },
      "execution_count": null,
      "outputs": []
    },
    {
      "cell_type": "markdown",
      "source": [
        "#### Transformação dos dados de Teste"
      ],
      "metadata": {
        "id": "yp8Yx-zWq1Ig"
      }
    },
    {
      "cell_type": "code",
      "source": [
        "w2v_test = doc2vector(doc_test,vectors,tipo='mean',seq_len=seq_len,tfidf=False,size_ebd=vector_size,tfidf_model=None,sparse_tfidf=None)\n",
        "save_pickle(w2v_test ,path=os.path.join(path_transformados,word2vec),filename='test_w2v_600_1530_specialized_O100.pkl') #OK"
      ],
      "metadata": {
        "id": "v-A7Ba7nBWT7"
      },
      "execution_count": null,
      "outputs": []
    },
    {
      "cell_type": "code",
      "source": [
        "w2v_test_NO = doc2vector(doc_test.loc[doc_test.document_type != 'outros'],vectors,tipo='mean',seq_len=seq_len,tfidf=False,size_ebd=vector_size,tfidf_model=None,sparse_tfidf=None)\n",
        "save_pickle(w2v_test_NO,path=os.path.join(path_transformados,word2vec),filename='test_w2v_600_1530_specialized_NO.pkl') #OK"
      ],
      "metadata": {
        "id": "GKXN-UMtHPdC"
      },
      "execution_count": null,
      "outputs": []
    },
    {
      "cell_type": "code",
      "source": [
        "del(w2v_test,w2v_test_NO,doc_test)"
      ],
      "metadata": {
        "id": "wwYFVo4jsJ6s"
      },
      "execution_count": null,
      "outputs": []
    },
    {
      "cell_type": "markdown",
      "source": [
        "# FastText"
      ],
      "metadata": {
        "id": "1JAta9B5kWqh"
      }
    },
    {
      "cell_type": "code",
      "source": [
        "from gensim.models import FastText\n",
        "from gensim.models import KeyedVectors"
      ],
      "metadata": {
        "id": "e8vIoiqQRM84"
      },
      "execution_count": null,
      "outputs": []
    },
    {
      "cell_type": "markdown",
      "source": [
        "## Transformando os Dados com vetores de embedding pré-treinados (genéricos) do NILC/USP\n"
      ],
      "metadata": {
        "id": "xH44NJtMkm_n"
      }
    },
    {
      "cell_type": "code",
      "source": [
        "doc_train = load_pickle(path=path,filename='train_processed_concat_pages.pkl')\n",
        "doc_valid = load_pickle(path=path,filename='valid_processed_concat_pages.pkl')\n",
        "doc_test = load_pickle(path=path,filename='test_processed_concat_pages.pkl')"
      ],
      "metadata": {
        "id": "omiQMIN6Jqwq"
      },
      "execution_count": null,
      "outputs": []
    },
    {
      "cell_type": "code",
      "source": [
        "fasttext = 'fasttext/'\n",
        "path_fasttext = 'skip_s600'\n",
        "path_dados_fasttext = os.path.join(path_transformados,fasttext,path_models)"
      ],
      "metadata": {
        "id": "Qs4R-louJ9Bk"
      },
      "execution_count": null,
      "outputs": []
    },
    {
      "cell_type": "code",
      "source": [
        "from zipfile import ZipFile\n",
        "zip_nilc_600 = os.path.join(path_dados_fasttext ,'skip_s600.zip')\n",
        "with ZipFile(zip_nilc_600, 'r') as zObject:\n",
        "  zObject.extractall(path=path_dados_fasttext)"
      ],
      "metadata": {
        "id": "dw2agaCEKwA1"
      },
      "execution_count": null,
      "outputs": []
    },
    {
      "cell_type": "code",
      "source": [
        "path_dados_fasttext_nilc = os.path.join(path_transformados,fasttext,path_models)\n",
        "model_fast_text_nilc = KeyedVectors.load_word2vec_format(os.path.join(path_dados_fasttext,'skip_s600.txt'))"
      ],
      "metadata": {
        "id": "IPC1p-r5J0UJ"
      },
      "execution_count": null,
      "outputs": []
    },
    {
      "cell_type": "markdown",
      "source": [
        "### Dados de Treino"
      ],
      "metadata": {
        "id": "uzX2Uk8OLWlk"
      }
    },
    {
      "cell_type": "code",
      "source": [
        "vector_size = model_fast_text_nilc.vector_size"
      ],
      "metadata": {
        "id": "kFchy1cHPUGj"
      },
      "execution_count": null,
      "outputs": []
    },
    {
      "cell_type": "code",
      "source": [
        "w2v_train = doc2vector(doc_train,model_fast_text_nilc,tipo='mean',seq_len=seq_len,tfidf=False,size_ebd=vector_size,tfidf_model=None,sparse_tfidf=None)\n",
        "save_pickle(w2v_train,path=os.path.join(path_transformados,fasttext),filename='train_fasttext_600_1530_specialized_O100.pkl') #OK"
      ],
      "metadata": {
        "id": "lML99aUpJiEd"
      },
      "execution_count": null,
      "outputs": []
    },
    {
      "cell_type": "code",
      "source": [
        "w2v_train_NO = doc2vector(doc_train.loc[doc_train.document_type != 'outros'],model_fast_text_nilc,tipo='mean',seq_len=seq_len,tfidf=False,size_ebd=vector_size,tfidf_model=None,sparse_tfidf=None)\n",
        "save_pickle(w2v_train_NO,path=os.path.join(path_transformados,fasttext),filename='train_fasttext_600_1530_specialized_NO.pkl') #OK"
      ],
      "metadata": {
        "id": "vLanbd_yLpHI"
      },
      "execution_count": null,
      "outputs": []
    },
    {
      "cell_type": "code",
      "source": [
        "filenames_O10 = load_pickle(path=path,filename='filenames_train_O10.pkl')\n",
        "doc_train_O10 = doc_train.loc[doc_train.file_name.isin(filenames_O10)]\n",
        "doc_train_O10 = pd.concat([doc_train_O10,doc_train.loc[doc_train.document_type != 'outros']], ignore_index=True, sort=False)"
      ],
      "metadata": {
        "id": "3TJ8Os6nL7QI"
      },
      "execution_count": null,
      "outputs": []
    },
    {
      "cell_type": "code",
      "source": [
        "w2v_train_O10 = doc2vector(doc_train_O10,model_fast_text_nilc,tipo='mean',seq_len=seq_len,tfidf=False,size_ebd=vector_size,tfidf_model=None,sparse_tfidf=None)\n",
        "save_pickle(w2v_train_O10,path=os.path.join(path_transformados,fasttext),filename='train_fasttext_600_1530_specialized_O10.pkl') #OK"
      ],
      "metadata": {
        "id": "8eyHRvesL0p1"
      },
      "execution_count": null,
      "outputs": []
    },
    {
      "cell_type": "markdown",
      "source": [
        "### Dados de Validação"
      ],
      "metadata": {
        "id": "T4MLjoNALTHe"
      }
    },
    {
      "cell_type": "code",
      "source": [
        "w2v_valid = doc2vector(doc_valid,model_fast_text_nilc,tipo='mean',seq_len=seq_len,tfidf=False,size_ebd=vector_size,tfidf_model=None,sparse_tfidf=None)\n",
        "save_pickle(w2v_valid,path=os.path.join(path_transformados,fasttext),filename='valid_fasttext_600_1530_specialized_O100.pkl') #OK"
      ],
      "metadata": {
        "id": "4o-5sM7JJisH"
      },
      "execution_count": null,
      "outputs": []
    },
    {
      "cell_type": "code",
      "source": [
        "w2v_valid_NO = doc2vector(doc_valid.loc[doc_valid.document_type != 'outros'],model_fast_text_nilc,tipo='mean',seq_len=seq_len,tfidf=False,size_ebd=vector_size,tfidf_model=None,sparse_tfidf=None)\n",
        "save_pickle(w2v_valid_NO,path=os.path.join(path_transformados,fasttext),filename='valid_fasttext_600_1530_specialized_NO.pkl')"
      ],
      "metadata": {
        "id": "e_h6c6ylLSdM"
      },
      "execution_count": null,
      "outputs": []
    },
    {
      "cell_type": "code",
      "source": [
        "filenames_O10  = load_pickle(path=path,filename='filenames_valid_O10.pkl')\n",
        "doc_valid_O10 = doc_valid.loc[doc_valid.file_name.isin(filenames_O10)]\n",
        "doc_valid_O10 = pd.concat([doc_valid_O10,doc_valid.loc[doc_valid.document_type != 'outros']], ignore_index=True, sort=False)"
      ],
      "metadata": {
        "id": "DdY2j7jZLiW4"
      },
      "execution_count": null,
      "outputs": []
    },
    {
      "cell_type": "code",
      "source": [
        "w2v_valid_O10 = doc2vector(doc_valid_O10,model_fast_text_nilc,tipo='mean',seq_len=seq_len,tfidf=False,size_ebd=vector_size,tfidf_model=None,sparse_tfidf=None)\n",
        "save_pickle(w2v_valid_O10,path=os.path.join(path_transformados,fasttext),filename='valid_fasttext_600_1530_specialized_O10.pkl') #OK"
      ],
      "metadata": {
        "id": "FgOh4KPyLk-F"
      },
      "execution_count": null,
      "outputs": []
    },
    {
      "cell_type": "markdown",
      "source": [
        "### Dados de Teste"
      ],
      "metadata": {
        "id": "Y4TOHJ0QLZIC"
      }
    },
    {
      "cell_type": "code",
      "source": [
        "w2v_test = doc2vector(doc_test,model_fast_text_nilc,tipo='mean',seq_len=seq_len,tfidf=False,size_ebd=vector_size,tfidf_model=None,sparse_tfidf=None)\n",
        "save_pickle(w2v_test ,path=os.path.join(path_transformados,fasttext),filename='test_fasttext_600_1530_specialized_O100.pkl') #OK"
      ],
      "metadata": {
        "id": "1EStH00oJpIA"
      },
      "execution_count": null,
      "outputs": []
    },
    {
      "cell_type": "code",
      "source": [
        "w2v_test_NO = doc2vector(doc_test.loc[doc_test.document_type != 'outros'],model_fast_text_nilc,tipo='mean',seq_len=seq_len,tfidf=False,size_ebd=vector_size,tfidf_model=None,sparse_tfidf=None)\n",
        "save_pickle(w2v_test_NO,path=os.path.join(path_transformados,fasttext),filename='test_fasttext_600_1530_specialized_NO.pkl') #OK"
      ],
      "metadata": {
        "id": "6m4c1kKKLOAi"
      },
      "execution_count": null,
      "outputs": []
    },
    {
      "cell_type": "code",
      "source": [
        "del(doc_train,doc_valid,doc_test)"
      ],
      "metadata": {
        "id": "x9LLY9AMRWXy"
      },
      "execution_count": null,
      "outputs": []
    },
    {
      "cell_type": "markdown",
      "source": [
        "## Gerando Vetores Especializados FastText a partir dos dados de treino"
      ],
      "metadata": {
        "id": "zmytiJiOkaMM"
      }
    },
    {
      "cell_type": "code",
      "source": [
        "class callback_fast(CallbackAny2Vec):\n",
        "    '''Callback to print loss after each epoch.'''\n",
        "\n",
        "    def __init__(self):\n",
        "        self.epoch = 0\n",
        "        self.loss_to_be_subed = 0\n",
        "\n",
        "    def on_epoch_end(self, model):\n",
        "        loss = model.get_latest_training_loss()\n",
        "        model.save(os.path.join(path_dados_fasttext,f'epoch-{self.epoch}-fast-600-model.model'))\n",
        "        vecs = model.wv\n",
        "        vecs.save(os.path.join(path_dados_fasttext,f'epoch-{self.epoch}-fast-600-model.vector'))\n",
        "        loss_now = loss - self.loss_to_be_subed\n",
        "        loss_word2vec.append(loss_now)\n",
        "        self.loss_to_be_subed = loss\n",
        "        print('Loss after epoch {}: {}'.format(self.epoch, loss_now))\n",
        "        self.epoch += 1"
      ],
      "metadata": {
        "id": "_5QKM9coSNhA"
      },
      "execution_count": null,
      "outputs": []
    },
    {
      "cell_type": "code",
      "source": [
        "doc_train = load_pickle(path=path,filename='train_processed_concat_pages.pkl')\n",
        "docs = doc_train.body.apply(lambda x: x.split())"
      ],
      "metadata": {
        "id": "5g5zow1ZPdVx"
      },
      "execution_count": null,
      "outputs": []
    },
    {
      "cell_type": "code",
      "source": [
        "tamanho = 600 #tamanho do vetor de representação da palavra artigo de Word2Vec em português (NILC) e MPPR\n",
        "window = 10 #tamanho da janela empregada no processo de treinamento, artigo do mikolov e MPPR\n",
        "iter = 5 #número de épocas obtida de Mikolov\n",
        "sg = 1 #define o skip-gram como arquitetura\n",
        "alpha=0.025 #taxa de aprendizado (Mikolov)\n",
        "max_vocab = 70000\n",
        "min_count = 5 #(MPPR)\n",
        "min_n=3\n",
        "max_n=6"
      ],
      "metadata": {
        "id": "nCgF7BGqPv-w"
      },
      "execution_count": null,
      "outputs": []
    },
    {
      "cell_type": "code",
      "source": [
        "time_start = time.time()\n",
        "fast_model = FastText(docs, vector_size=tamanho, workers=4, window=window, epochs=iter,sg=sg,alpha=alpha, min_count=min_count,max_vocab_size=max_vocab)\n",
        "time_end = time.time() - time_start\n",
        "time_end"
      ],
      "metadata": {
        "id": "A1AqwQg6P3TQ"
      },
      "execution_count": null,
      "outputs": []
    },
    {
      "cell_type": "code",
      "source": [
        "import tempfile\n",
        "open_file = open(path_transformados+fasttext+'/'+path_models+'/'+'fasttext_10_epochs_600.model', \"wb\")\n",
        "fast_model.save(open_file, separately=[])\n",
        "#fname = get_tmpfile(path_transformados+path_models+'/'+'fasttext_10_epochs_600.model')\n",
        "#fast_model.save(fname)"
      ],
      "metadata": {
        "id": "2atPpawOu6rt"
      },
      "execution_count": null,
      "outputs": []
    },
    {
      "cell_type": "code",
      "source": [
        "vectors = fast_model.wv\n",
        "vectors.save(path_transformados+path_models+'/'+'fasttext_10_epochs_600.vector')\n",
        "#save_pickle(loss_word2vec,path=path_transformados+path_models,filename='fasttext_loss_600_epochs-1-10.pkl')"
      ],
      "metadata": {
        "id": "HGrhnau7vB3U"
      },
      "execution_count": null,
      "outputs": []
    },
    {
      "cell_type": "code",
      "source": [
        "open_file = open(path_transformados+fasttext+'/'+path_models+'/'+'fasttext_10_epochs_600.vector', \"wb\")\n",
        "vectors.save(open_file)\n",
        "#Obs: Para gerar a representação dos documentos com o FastText especializado, usar a mesma sequência acima empregada para o FastText genérico, apenas substituindo o arquivo carregado"
      ],
      "metadata": {
        "id": "ReLHprPL0Ouy"
      },
      "execution_count": null,
      "outputs": []
    }
  ]
}
