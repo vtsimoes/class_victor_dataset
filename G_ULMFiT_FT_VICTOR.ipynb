{
  "nbformat": 4,
  "nbformat_minor": 0,
  "metadata": {
    "colab": {
      "provenance": [],
      "machine_shape": "hm",
      "collapsed_sections": [
        "UImqzUlOteAG"
      ],
      "include_colab_link": true
    },
    "kernelspec": {
      "name": "python3",
      "display_name": "Python 3"
    },
    "language_info": {
      "name": "python"
    },
    "accelerator": "GPU"
  },
  "cells": [
    {
      "cell_type": "markdown",
      "metadata": {
        "id": "view-in-github",
        "colab_type": "text"
      },
      "source": [
        "<a href=\"https://colab.research.google.com/github/vtsimoes/class_victor_dataset/blob/main/G_ULMFiT_FT_VICTOR.ipynb\" target=\"_parent\"><img src=\"https://colab.research.google.com/assets/colab-badge.svg\" alt=\"Open In Colab\"/></a>"
      ]
    },
    {
      "cell_type": "markdown",
      "source": [
        "# Notebook para ajuste fino de modelo ULMFiT pré-treinado em português, para o dataset VICTOR"
      ],
      "metadata": {
        "id": "vVOB38UwvTFn"
      }
    },
    {
      "cell_type": "markdown",
      "source": [
        "##Instalação das bibliotecas"
      ],
      "metadata": {
        "id": "UImqzUlOteAG"
      }
    },
    {
      "cell_type": "code",
      "source": [
        "!pip install wandb"
      ],
      "metadata": {
        "id": "BI61_gYJPhql"
      },
      "execution_count": null,
      "outputs": []
    },
    {
      "cell_type": "code",
      "source": [
        "!pip install fastai==1.0.61"
      ],
      "metadata": {
        "id": "yEB-xLBrU5r2"
      },
      "execution_count": null,
      "outputs": []
    },
    {
      "cell_type": "code",
      "source": [
        "!pip install spacy==2.3.9"
      ],
      "metadata": {
        "id": "uUYlc65nZqpM"
      },
      "execution_count": null,
      "outputs": []
    },
    {
      "cell_type": "code",
      "source": [
        "!pip show spacy"
      ],
      "metadata": {
        "id": "QSzX31poFdLP"
      },
      "execution_count": null,
      "outputs": []
    },
    {
      "cell_type": "code",
      "source": [
        "!pip install colormap"
      ],
      "metadata": {
        "id": "q8s0-q5kv680"
      },
      "execution_count": null,
      "outputs": []
    },
    {
      "cell_type": "markdown",
      "source": [
        "## Carregamento das bibliotecas"
      ],
      "metadata": {
        "id": "5a8ayp3qJOvg"
      }
    },
    {
      "cell_type": "code",
      "execution_count": null,
      "metadata": {
        "id": "0rh4drzDNGO2"
      },
      "outputs": [],
      "source": [
        "import pickle\n",
        "from google.colab import drive\n",
        "import os\n",
        "import IPython\n",
        "from fastai import *\n",
        "from fastai.text import *\n",
        "from fastai.callbacks import *\n",
        "from multiprocessing import cpu_count\n",
        "from fastai.utils.ipython import *\n",
        "from fastai.basics import *\n",
        "import re\n",
        "import warnings\n",
        "import wandb\n",
        "from fastai.metrics import *\n",
        "from fastai.metrics import CMScores\n",
        "from sklearn.metrics import balanced_accuracy_score\n",
        "from sklearn.metrics import f1_score\n",
        "from sklearn.metrics import matthews_corrcoef\n",
        "from datetime import datetime, timedelta\n",
        "import matplotlib.cm as cm\n",
        "import time\n",
        "%matplotlib inline"
      ]
    },
    {
      "cell_type": "markdown",
      "source": [
        "## Nome do treinamento e locais de salvamento"
      ],
      "metadata": {
        "id": "YDcix22ltjzf"
      }
    },
    {
      "cell_type": "code",
      "source": [
        "path_dados = '' #path com dados do dataset pre-processados\n",
        "path_model = '' #path do model ULMFiT\n",
        "path_results = path_model + 'ulmfit_victor_finetunned/'\n",
        "path_corpus = ''\n",
        "#Montando o google drive para obter os dados\n",
        "drive.mount('/content/drive/')"
      ],
      "metadata": {
        "id": "a8VMKEg1Pzqk",
        "colab": {
          "base_uri": "https://localhost:8080/"
        },
        "outputId": "062e063b-f530-4228-bb1f-a7cdd25c726c"
      },
      "execution_count": null,
      "outputs": [
        {
          "output_type": "stream",
          "name": "stdout",
          "text": [
            "Mounted at /content/drive/\n"
          ]
        }
      ]
    },
    {
      "cell_type": "code",
      "source": [
        "def save_pickle(data_to_save,path='',filename='file.pkl'):\n",
        "  open_file = open(path + filename, \"wb\")\n",
        "  pickle.dump(data_to_save, open_file)\n",
        "  open_file.close()\n",
        "\n",
        "def load_pickle(path='',filename='file.pkl'):\n",
        "  open_file = open(path + filename, \"rb\")\n",
        "  pkl_file = pickle.load(open_file)\n",
        "  open_file.close()\n",
        "  return pkl_file"
      ],
      "metadata": {
        "id": "d0Yje6YqRKT1"
      },
      "execution_count": null,
      "outputs": []
    },
    {
      "cell_type": "code",
      "source": [
        "CLASSIFICADOR = 'ULMFiT-FT'\n",
        "DIRECTION = 'FW'\n",
        "BATCH_SIZE = 32\n",
        "EPOCHS = 12\n",
        "FT = 'VICTOR'\n",
        "WD = 0.01\n",
        "BPTT = 70\n",
        "NOME_RUNNING = f'{CLASSIFICADOR}-{FT}-{DIRECTION}-{BATCH_SIZE}-{BPTT}-{EPOCHS}'\n",
        "experiment = {'CLASSIFICADOR':CLASSIFICADOR,'FINE_TUNNING':FT,'BATCH_SIZE':BATCH_SIZE,'BPTT':BPTT,'WD':WD,'EPOCHS':EPOCHS,'HISTORY_FILE':f'{NOME_RUNNING}'}\n",
        "path_experiment = path_results + NOME_RUNNING\n",
        "NOME_RUNNING, path_experiment"
      ],
      "metadata": {
        "id": "bSKEKwawlAME"
      },
      "execution_count": null,
      "outputs": []
    },
    {
      "cell_type": "code",
      "source": [
        "if not os.path.exists(path_experiment):\n",
        "  os.makedirs(path_experiment)"
      ],
      "metadata": {
        "id": "QUtmgkZClL6p"
      },
      "execution_count": null,
      "outputs": []
    },
    {
      "cell_type": "code",
      "source": [
        "bs = BATCH_SIZE\n",
        "data_path = Path(path_model)\n",
        "print(data_path)"
      ],
      "metadata": {
        "colab": {
          "base_uri": "https://localhost:8080/"
        },
        "id": "xCdMETUFPu8I",
        "outputId": "ff183080-3313-43d0-da6e-5d2b626f51a1"
      },
      "execution_count": null,
      "outputs": [
        {
          "output_type": "stream",
          "name": "stdout",
          "text": [
            "drive/MyDrive/MestradoTucurui/Experiments/ULMFiT\n"
          ]
        }
      ]
    },
    {
      "cell_type": "code",
      "source": [
        "lang = 'pt'\n",
        "\n",
        "path = data_path\n",
        "\n",
        "modelsdir = path/Path('ulmfit_portuguese/')\n",
        "\n",
        "lm_fns2_fwd = [f'{modelsdir}/{lang}_wt_60k_ulmfit_fwd', f'{modelsdir}/{lang}_wt_vocab_60k_ulmfit_fwd']\n",
        "print(lm_fns2_fwd)"
      ],
      "metadata": {
        "id": "2npEAD-eQFuz"
      },
      "execution_count": null,
      "outputs": []
    },
    {
      "cell_type": "code",
      "source": [
        "torch.cuda.set_device(0)\n",
        "!nvidia-smi"
      ],
      "metadata": {
        "id": "eZveIqBOQgRT"
      },
      "execution_count": null,
      "outputs": []
    },
    {
      "cell_type": "code",
      "source": [
        "import warnings\n",
        "warnings.filterwarnings('ignore')"
      ],
      "metadata": {
        "id": "erTv6SlkQ_yp"
      },
      "execution_count": null,
      "outputs": []
    },
    {
      "cell_type": "code",
      "source": [
        "import joblib\n",
        "if DIRECTION == 'FW':\n",
        "  with open(path / 'ulmfit_portuguese/vocab-fwd.joblib', \"rb\") as f:\n",
        "    vocab = joblib.load(f)\n",
        "else:\n",
        "  with open(path / 'ulmfit_portuguese/vocab-bwd.joblib', \"rb\") as f:\n",
        "    vocab = joblib.load(f)\n"
      ],
      "metadata": {
        "id": "kS_EyPulShsa"
      },
      "execution_count": null,
      "outputs": []
    },
    {
      "cell_type": "code",
      "source": [
        "import gc\n",
        "gc.collect()"
      ],
      "metadata": {
        "colab": {
          "base_uri": "https://localhost:8080/"
        },
        "id": "8CzSL2PJV-N8",
        "outputId": "68b26281-15f4-45ff-cd38-7d257c4277c6"
      },
      "execution_count": null,
      "outputs": [
        {
          "output_type": "execute_result",
          "data": {
            "text/plain": [
              "65"
            ]
          },
          "metadata": {},
          "execution_count": 66
        }
      ]
    },
    {
      "cell_type": "markdown",
      "source": [
        "## Carregamento dos Dados"
      ],
      "metadata": {
        "id": "9vQE693IIyJj"
      }
    },
    {
      "cell_type": "code",
      "source": [
        "doc_train = load_pickle(path = path_dados,filename='train_processed_concat_pages_sw.pkl')\n",
        "doc_valid = load_pickle(path = path_dados,filename='valid_processed_concat_pages_sw.pkl')"
      ],
      "metadata": {
        "id": "cWUguVJs9qIt"
      },
      "execution_count": null,
      "outputs": []
    },
    {
      "cell_type": "code",
      "source": [
        "doc_train.rename(columns={'body':'text','document_type':'label'},inplace=True)\n",
        "doc_valid.rename(columns={'body':'text','document_type':'label'},inplace=True)\n",
        "doc_valid = doc_valid.sample(frac = 0.1, replace = False) #Pegando apenas 10% dos dados de validação"
      ],
      "metadata": {
        "id": "tGktVJqTRH9_"
      },
      "execution_count": null,
      "outputs": []
    },
    {
      "cell_type": "code",
      "source": [
        "len(doc_train),len(doc_valid)"
      ],
      "metadata": {
        "colab": {
          "base_uri": "https://localhost:8080/"
        },
        "id": "wiXsSe_e-JMh",
        "outputId": "2e97b0eb-db9d-4f4e-d69e-76b3588af028"
      },
      "execution_count": null,
      "outputs": [
        {
          "output_type": "execute_result",
          "data": {
            "text/plain": [
              "(38815, 2545)"
            ]
          },
          "metadata": {},
          "execution_count": 32
        }
      ]
    },
    {
      "cell_type": "markdown",
      "source": [
        "## Montagem dos datasets para treinamento"
      ],
      "metadata": {
        "id": "ZqQk-QAEuZrI"
      }
    },
    {
      "cell_type": "code",
      "source": [
        "doc_train['is_valid'] = False\n",
        "doc_valid['is_valid'] = True\n",
        "df_train = doc_train.append(doc_valid,ignore_index=True)\n",
        "df_train.columns"
      ],
      "metadata": {
        "colab": {
          "base_uri": "https://localhost:8080/"
        },
        "id": "Y7VdjjvYV1-O",
        "outputId": "359e781e-2e57-4ee1-c111-f496f6ef02b3"
      },
      "execution_count": null,
      "outputs": [
        {
          "output_type": "execute_result",
          "data": {
            "text/plain": [
              "Index(['file_name', 'text', 'pages', 'label', 'is_valid'], dtype='object')"
            ]
          },
          "metadata": {},
          "execution_count": 33
        }
      ]
    },
    {
      "cell_type": "code",
      "source": [
        "%%time\n",
        "backwards = True if DIRECTION == 'BW' else False\n",
        "data_fine = (TextList.from_df(df_train, path_experiment, vocab=vocab, cols='text').split_from_df(col='is_valid').label_for_lm().databunch(bs=bs, num_workers=14, backwards=backwards,bptt=BPTT))"
      ],
      "metadata": {
        "colab": {
          "base_uri": "https://localhost:8080/",
          "height": 52
        },
        "id": "rB9Iefid4mGz",
        "outputId": "ceb0cd8e-0fe8-48b9-ecc3-60bc945f8645"
      },
      "execution_count": null,
      "outputs": [
        {
          "output_type": "display_data",
          "data": {
            "text/plain": [
              "<IPython.core.display.HTML object>"
            ],
            "text/html": [
              "\n",
              "<style>\n",
              "    /* Turns off some styling */\n",
              "    progress {\n",
              "        /* gets rid of default border in Firefox and Opera. */\n",
              "        border: none;\n",
              "        /* Needs to be in here for Safari polyfill so background images work as expected. */\n",
              "        background-size: auto;\n",
              "    }\n",
              "    progress:not([value]), progress:not([value])::-webkit-progress-bar {\n",
              "        background: repeating-linear-gradient(45deg, #7e7e7e, #7e7e7e 10px, #5c5c5c 10px, #5c5c5c 20px);\n",
              "    }\n",
              "    .progress-bar-interrupted, .progress-bar-interrupted::-webkit-progress-bar {\n",
              "        background: #F44336;\n",
              "    }\n",
              "</style>\n"
            ]
          },
          "metadata": {}
        },
        {
          "output_type": "display_data",
          "data": {
            "text/plain": [
              "<IPython.core.display.HTML object>"
            ],
            "text/html": []
          },
          "metadata": {}
        },
        {
          "output_type": "display_data",
          "data": {
            "text/plain": [
              "<IPython.core.display.HTML object>"
            ],
            "text/html": [
              "\n",
              "<style>\n",
              "    /* Turns off some styling */\n",
              "    progress {\n",
              "        /* gets rid of default border in Firefox and Opera. */\n",
              "        border: none;\n",
              "        /* Needs to be in here for Safari polyfill so background images work as expected. */\n",
              "        background-size: auto;\n",
              "    }\n",
              "    progress:not([value]), progress:not([value])::-webkit-progress-bar {\n",
              "        background: repeating-linear-gradient(45deg, #7e7e7e, #7e7e7e 10px, #5c5c5c 10px, #5c5c5c 20px);\n",
              "    }\n",
              "    .progress-bar-interrupted, .progress-bar-interrupted::-webkit-progress-bar {\n",
              "        background: #F44336;\n",
              "    }\n",
              "</style>\n"
            ]
          },
          "metadata": {}
        },
        {
          "output_type": "display_data",
          "data": {
            "text/plain": [
              "<IPython.core.display.HTML object>"
            ],
            "text/html": []
          },
          "metadata": {}
        },
        {
          "output_type": "stream",
          "name": "stdout",
          "text": [
            "CPU times: user 10.4 s, sys: 3.58 s, total: 14 s\n",
            "Wall time: 1min 55s\n"
          ]
        }
      ]
    },
    {
      "cell_type": "code",
      "source": [
        "data_fine.show_batch()"
      ],
      "metadata": {
        "id": "tw4hjbKYnvjv"
      },
      "execution_count": null,
      "outputs": []
    },
    {
      "cell_type": "code",
      "source": [
        "data_fine.export(f'export_textlist_60k_ulmfit_{DIRECTION}.pkl')"
      ],
      "metadata": {
        "id": "yKDlZA-S54od"
      },
      "execution_count": null,
      "outputs": []
    },
    {
      "cell_type": "code",
      "source": [
        "%%time\n",
        "data_fine.save(f'textlist_60k_ulmfit_{DIRECTION}.pkl')"
      ],
      "metadata": {
        "id": "i_8MsIk9a0ch"
      },
      "execution_count": null,
      "outputs": []
    },
    {
      "cell_type": "markdown",
      "source": [
        "## Cáculo de métricas"
      ],
      "metadata": {
        "id": "3aGPy4D-u1AY"
      }
    },
    {
      "cell_type": "code",
      "source": [
        "perplexity = Perplexity()"
      ],
      "metadata": {
        "id": "AnKRiR57PtT7"
      },
      "execution_count": null,
      "outputs": []
    },
    {
      "cell_type": "markdown",
      "source": [
        "## Carregamento do modelo pré-treinado"
      ],
      "metadata": {
        "id": "2vcFb13uvBHi"
      }
    },
    {
      "cell_type": "code",
      "source": [
        "drop_mult = 0.5\n",
        "opt_func = partial(optim.Adam, betas = (0.8, 0.99))"
      ],
      "metadata": {
        "id": "50OCI-SNsuo1"
      },
      "execution_count": null,
      "outputs": []
    },
    {
      "cell_type": "code",
      "source": [
        "#para carregamento de modelo pré-treinado\n",
        "pretrained = ['ULMFiT-FT-VICTOR-FW-32-70-12', f'{lang}_wt_vocab_60k_ulmfit_fwd']\n",
        "learn = language_model_learner(data_fine, AWD_LSTM,drop_mult=drop_mult, pretrained=True, metrics=[error_rate, accuracy, perplexity],opt_func=opt_func,pretrained_fnames=pretrained).to_fp16()"
      ],
      "metadata": {
        "id": "r4OWiOP-6lIn"
      },
      "execution_count": null,
      "outputs": []
    },
    {
      "cell_type": "code",
      "source": [
        "learn = language_model_learner(data_fine, AWD_LSTM,drop_mult=drop_mult, pretrained=True, metrics=[error_rate, accuracy, perplexity],opt_func=opt_func,pretrained_fnames=lm_fns2_bwd).to_fp16()"
      ],
      "metadata": {
        "id": "trRE7Fbtslnx"
      },
      "execution_count": null,
      "outputs": []
    },
    {
      "cell_type": "code",
      "source": [
        "from torch.autograd import backward"
      ],
      "metadata": {
        "id": "2oLMem93dBjy"
      },
      "execution_count": null,
      "outputs": []
    },
    {
      "cell_type": "markdown",
      "source": [
        "### Definindo Callbacks"
      ],
      "metadata": {
        "id": "4ivvjR1s0X3r"
      }
    },
    {
      "cell_type": "code",
      "source": [
        "callbacks = [CSVLogger(learn,filename=experiment['HISTORY_FILE'],append=True),ShowGraph(learn),SaveModelCallback(learn,monitor='perplexity', name=NOME_RUNNING, mode='min')]"
      ],
      "metadata": {
        "id": "_a3Q5rFt0Xma"
      },
      "execution_count": null,
      "outputs": []
    },
    {
      "cell_type": "markdown",
      "source": [
        "### Identificando o melhor parâmetro de taxa de aprendizado"
      ],
      "metadata": {
        "id": "BcNKNqQC6g6g"
      }
    },
    {
      "cell_type": "code",
      "source": [
        "with gpu_mem_restore_ctx():\n",
        "    learn.lr_find()\n",
        "learn.recorder.plot(suggestion=True)"
      ],
      "metadata": {
        "id": "xkuSSEvwewkN"
      },
      "execution_count": null,
      "outputs": []
    },
    {
      "cell_type": "code",
      "source": [
        "lr = 1e-3\n",
        "print(lr, bs)\n",
        "wd = WD\n",
        "experiment['lr'] = lr\n",
        "print(wd)"
      ],
      "metadata": {
        "colab": {
          "base_uri": "https://localhost:8080/"
        },
        "id": "j9s6-Mz_gJMi",
        "outputId": "74d9d14a-1f85-480a-fb14-529e3b3dc58f"
      },
      "execution_count": null,
      "outputs": [
        {
          "output_type": "stream",
          "name": "stdout",
          "text": [
            "0.001 32\n",
            "0.01\n"
          ]
        }
      ]
    },
    {
      "cell_type": "code",
      "source": [
        "lrm = 2.6\n",
        "lrs = np.array([lr/(lrm**3), lr/(lrm**2), lr/lrm, lr])"
      ],
      "metadata": {
        "id": "Z2ecUksA3k98"
      },
      "execution_count": null,
      "outputs": []
    },
    {
      "cell_type": "markdown",
      "source": [
        "## Executando uma primeira época com as camadas internas congeladas"
      ],
      "metadata": {
        "id": "wH0SjwM2y8dR"
      }
    },
    {
      "cell_type": "code",
      "source": [
        "learn.freeze_to(-1)\n",
        "lr = 1e-3\n",
        "learn.fit_one_cycle(1, lr, wd=0.1, moms=(0.8,0.99),callbacks=callbacks)"
      ],
      "metadata": {
        "id": "pkajBrM1y7xQ"
      },
      "execution_count": null,
      "outputs": []
    },
    {
      "cell_type": "markdown",
      "source": [
        "## Executando as demais épocas com todas as camadas descongeladas"
      ],
      "metadata": {
        "id": "SH7E4Zu-A_7p"
      }
    },
    {
      "cell_type": "code",
      "source": [
        "learn.unfreeze();"
      ],
      "metadata": {
        "id": "5R8OCOgzgtwH"
      },
      "execution_count": null,
      "outputs": []
    },
    {
      "cell_type": "code",
      "source": [
        "tempo1 = time.time()\n",
        "with gpu_mem_restore_ctx():\n",
        "    learn.fit_one_cycle(5, lrs, wd=wd,\n",
        "                          moms=(0.8,0.7),\n",
        "                          callbacks=callbacks,final_div=25000)"
      ],
      "metadata": {
        "id": "ELlNw1UwgwWY"
      },
      "execution_count": null,
      "outputs": []
    },
    {
      "cell_type": "code",
      "source": [
        "total_time = time.time() - tempo1"
      ],
      "metadata": {
        "id": "NKJD90js3ubh"
      },
      "execution_count": null,
      "outputs": []
    },
    {
      "cell_type": "code",
      "source": [
        "learn.save('ft_victor_fw')\n",
        "learn.save_encoder('encoder_ft_victor_fw')\n",
        "learn.export('export_ft_victor_fw')"
      ],
      "metadata": {
        "id": "3Ls00khr31mU"
      },
      "execution_count": null,
      "outputs": []
    }
  ]
}