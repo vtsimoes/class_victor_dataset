{
  "nbformat": 4,
  "nbformat_minor": 0,
  "metadata": {
    "colab": {
      "provenance": [],
      "machine_shape": "hm",
      "collapsed_sections": [
        "UImqzUlOteAG"
      ],
      "include_colab_link": true
    },
    "kernelspec": {
      "name": "python3",
      "display_name": "Python 3"
    },
    "language_info": {
      "name": "python"
    },
    "accelerator": "GPU"
  },
  "cells": [
    {
      "cell_type": "markdown",
      "metadata": {
        "id": "view-in-github",
        "colab_type": "text"
      },
      "source": [
        "<a href=\"https://colab.research.google.com/github/vtsimoes/class_victor_dataset/blob/main/G_ULMFiT_FT_VICTOR.ipynb\" target=\"_parent\"><img src=\"https://colab.research.google.com/assets/colab-badge.svg\" alt=\"Open In Colab\"/></a>"
      ]
    },
    {
      "cell_type": "markdown",
      "source": [
        "# Notebook para ajuste fino de modelo ULMFiT pré-treinado em português, para o dataset VICTOR"
      ],
      "metadata": {
        "id": "vVOB38UwvTFn"
      }
    },
    {
      "cell_type": "markdown",
      "source": [
        "##Instalação das bibliotecas"
      ],
      "metadata": {
        "id": "UImqzUlOteAG"
      }
    },
    {
      "cell_type": "code",
      "source": [
        "!pip install wandb"
      ],
      "metadata": {
        "colab": {
          "base_uri": "https://localhost:8080/"
        },
        "id": "BI61_gYJPhql",
        "outputId": "a6dc03ef-ec77-4a7d-d599-0fb8645b036c"
      },
      "execution_count": null,
      "outputs": [
        {
          "output_type": "stream",
          "name": "stdout",
          "text": [
            "Collecting wandb\n",
            "  Downloading wandb-0.15.8-py3-none-any.whl (2.1 MB)\n",
            "\u001b[2K     \u001b[90m━━━━━━━━━━━━━━━━━━━━━━━━━━━━━━━━━━━━━━━━\u001b[0m \u001b[32m2.1/2.1 MB\u001b[0m \u001b[31m16.4 MB/s\u001b[0m eta \u001b[36m0:00:00\u001b[0m\n",
            "\u001b[?25hRequirement already satisfied: Click!=8.0.0,>=7.1 in /usr/local/lib/python3.10/dist-packages (from wandb) (8.1.6)\n",
            "Collecting GitPython!=3.1.29,>=1.0.0 (from wandb)\n",
            "  Downloading GitPython-3.1.32-py3-none-any.whl (188 kB)\n",
            "\u001b[2K     \u001b[90m━━━━━━━━━━━━━━━━━━━━━━━━━━━━━━━━━━━━━━\u001b[0m \u001b[32m188.5/188.5 kB\u001b[0m \u001b[31m15.1 MB/s\u001b[0m eta \u001b[36m0:00:00\u001b[0m\n",
            "\u001b[?25hRequirement already satisfied: requests<3,>=2.0.0 in /usr/local/lib/python3.10/dist-packages (from wandb) (2.27.1)\n",
            "Requirement already satisfied: psutil>=5.0.0 in /usr/local/lib/python3.10/dist-packages (from wandb) (5.9.5)\n",
            "Collecting sentry-sdk>=1.0.0 (from wandb)\n",
            "  Downloading sentry_sdk-1.29.2-py2.py3-none-any.whl (215 kB)\n",
            "\u001b[2K     \u001b[90m━━━━━━━━━━━━━━━━━━━━━━━━━━━━━━━━━━━━━━\u001b[0m \u001b[32m215.6/215.6 kB\u001b[0m \u001b[31m12.0 MB/s\u001b[0m eta \u001b[36m0:00:00\u001b[0m\n",
            "\u001b[?25hCollecting docker-pycreds>=0.4.0 (from wandb)\n",
            "  Downloading docker_pycreds-0.4.0-py2.py3-none-any.whl (9.0 kB)\n",
            "Requirement already satisfied: PyYAML in /usr/local/lib/python3.10/dist-packages (from wandb) (6.0.1)\n",
            "Collecting pathtools (from wandb)\n",
            "  Downloading pathtools-0.1.2.tar.gz (11 kB)\n",
            "  Preparing metadata (setup.py) ... \u001b[?25l\u001b[?25hdone\n",
            "Collecting setproctitle (from wandb)\n",
            "  Downloading setproctitle-1.3.2-cp310-cp310-manylinux_2_5_x86_64.manylinux1_x86_64.manylinux_2_17_x86_64.manylinux2014_x86_64.whl (30 kB)\n",
            "Requirement already satisfied: setuptools in /usr/local/lib/python3.10/dist-packages (from wandb) (67.7.2)\n",
            "Requirement already satisfied: appdirs>=1.4.3 in /usr/local/lib/python3.10/dist-packages (from wandb) (1.4.4)\n",
            "Requirement already satisfied: protobuf!=4.21.0,<5,>=3.19.0 in /usr/local/lib/python3.10/dist-packages (from wandb) (3.20.3)\n",
            "Requirement already satisfied: six>=1.4.0 in /usr/local/lib/python3.10/dist-packages (from docker-pycreds>=0.4.0->wandb) (1.16.0)\n",
            "Collecting gitdb<5,>=4.0.1 (from GitPython!=3.1.29,>=1.0.0->wandb)\n",
            "  Downloading gitdb-4.0.10-py3-none-any.whl (62 kB)\n",
            "\u001b[2K     \u001b[90m━━━━━━━━━━━━━━━━━━━━━━━━━━━━━━━━━━━━━━━━\u001b[0m \u001b[32m62.7/62.7 kB\u001b[0m \u001b[31m4.8 MB/s\u001b[0m eta \u001b[36m0:00:00\u001b[0m\n",
            "\u001b[?25hRequirement already satisfied: urllib3<1.27,>=1.21.1 in /usr/local/lib/python3.10/dist-packages (from requests<3,>=2.0.0->wandb) (1.26.16)\n",
            "Requirement already satisfied: certifi>=2017.4.17 in /usr/local/lib/python3.10/dist-packages (from requests<3,>=2.0.0->wandb) (2023.7.22)\n",
            "Requirement already satisfied: charset-normalizer~=2.0.0 in /usr/local/lib/python3.10/dist-packages (from requests<3,>=2.0.0->wandb) (2.0.12)\n",
            "Requirement already satisfied: idna<4,>=2.5 in /usr/local/lib/python3.10/dist-packages (from requests<3,>=2.0.0->wandb) (3.4)\n",
            "Collecting smmap<6,>=3.0.1 (from gitdb<5,>=4.0.1->GitPython!=3.1.29,>=1.0.0->wandb)\n",
            "  Downloading smmap-5.0.0-py3-none-any.whl (24 kB)\n",
            "Building wheels for collected packages: pathtools\n",
            "  Building wheel for pathtools (setup.py) ... \u001b[?25l\u001b[?25hdone\n",
            "  Created wheel for pathtools: filename=pathtools-0.1.2-py3-none-any.whl size=8791 sha256=3a3bd88360b7f42a3cbcabb8783e0c124471dcc991174dbabb8fa09a3c644ce3\n",
            "  Stored in directory: /root/.cache/pip/wheels/e7/f3/22/152153d6eb222ee7a56ff8617d80ee5207207a8c00a7aab794\n",
            "Successfully built pathtools\n",
            "Installing collected packages: pathtools, smmap, setproctitle, sentry-sdk, docker-pycreds, gitdb, GitPython, wandb\n",
            "Successfully installed GitPython-3.1.32 docker-pycreds-0.4.0 gitdb-4.0.10 pathtools-0.1.2 sentry-sdk-1.29.2 setproctitle-1.3.2 smmap-5.0.0 wandb-0.15.8\n"
          ]
        }
      ]
    },
    {
      "cell_type": "code",
      "source": [
        "!pip install fastai==1.0.61"
      ],
      "metadata": {
        "colab": {
          "base_uri": "https://localhost:8080/"
        },
        "id": "yEB-xLBrU5r2",
        "outputId": "6d0f4b57-771a-4722-fe57-01b4368a2157"
      },
      "execution_count": null,
      "outputs": [
        {
          "output_type": "stream",
          "name": "stdout",
          "text": [
            "Collecting fastai==1.0.61\n",
            "  Downloading fastai-1.0.61-py3-none-any.whl (239 kB)\n",
            "\u001b[2K     \u001b[90m━━━━━━━━━━━━━━━━━━━━━━━━━━━━━━━━━━━━━━━\u001b[0m \u001b[32m239.2/239.2 kB\u001b[0m \u001b[31m3.5 MB/s\u001b[0m eta \u001b[36m0:00:00\u001b[0m\n",
            "\u001b[?25hCollecting bottleneck (from fastai==1.0.61)\n",
            "  Downloading Bottleneck-1.3.7-cp310-cp310-manylinux_2_5_x86_64.manylinux1_x86_64.manylinux_2_17_x86_64.manylinux2014_x86_64.whl (354 kB)\n",
            "\u001b[2K     \u001b[90m━━━━━━━━━━━━━━━━━━━━━━━━━━━━━━━━━━━━━━\u001b[0m \u001b[32m354.0/354.0 kB\u001b[0m \u001b[31m13.7 MB/s\u001b[0m eta \u001b[36m0:00:00\u001b[0m\n",
            "\u001b[?25hRequirement already satisfied: fastprogress>=0.2.1 in /usr/local/lib/python3.10/dist-packages (from fastai==1.0.61) (1.0.3)\n",
            "Requirement already satisfied: beautifulsoup4 in /usr/local/lib/python3.10/dist-packages (from fastai==1.0.61) (4.11.2)\n",
            "Requirement already satisfied: matplotlib in /usr/local/lib/python3.10/dist-packages (from fastai==1.0.61) (3.7.1)\n",
            "Requirement already satisfied: numexpr in /usr/local/lib/python3.10/dist-packages (from fastai==1.0.61) (2.8.4)\n",
            "Requirement already satisfied: numpy>=1.15 in /usr/local/lib/python3.10/dist-packages (from fastai==1.0.61) (1.22.4)\n",
            "Collecting nvidia-ml-py3 (from fastai==1.0.61)\n",
            "  Downloading nvidia-ml-py3-7.352.0.tar.gz (19 kB)\n",
            "  Preparing metadata (setup.py) ... \u001b[?25l\u001b[?25hdone\n",
            "Requirement already satisfied: pandas in /usr/local/lib/python3.10/dist-packages (from fastai==1.0.61) (1.5.3)\n",
            "Requirement already satisfied: packaging in /usr/local/lib/python3.10/dist-packages (from fastai==1.0.61) (23.1)\n",
            "Requirement already satisfied: Pillow in /usr/local/lib/python3.10/dist-packages (from fastai==1.0.61) (9.4.0)\n",
            "Requirement already satisfied: pyyaml in /usr/local/lib/python3.10/dist-packages (from fastai==1.0.61) (6.0.1)\n",
            "Requirement already satisfied: requests in /usr/local/lib/python3.10/dist-packages (from fastai==1.0.61) (2.27.1)\n",
            "Requirement already satisfied: scipy in /usr/local/lib/python3.10/dist-packages (from fastai==1.0.61) (1.10.1)\n",
            "Requirement already satisfied: torch>=1.0.0 in /usr/local/lib/python3.10/dist-packages (from fastai==1.0.61) (2.0.1+cu118)\n",
            "Requirement already satisfied: torchvision in /usr/local/lib/python3.10/dist-packages (from fastai==1.0.61) (0.15.2+cu118)\n",
            "Requirement already satisfied: filelock in /usr/local/lib/python3.10/dist-packages (from torch>=1.0.0->fastai==1.0.61) (3.12.2)\n",
            "Requirement already satisfied: typing-extensions in /usr/local/lib/python3.10/dist-packages (from torch>=1.0.0->fastai==1.0.61) (4.7.1)\n",
            "Requirement already satisfied: sympy in /usr/local/lib/python3.10/dist-packages (from torch>=1.0.0->fastai==1.0.61) (1.11.1)\n",
            "Requirement already satisfied: networkx in /usr/local/lib/python3.10/dist-packages (from torch>=1.0.0->fastai==1.0.61) (3.1)\n",
            "Requirement already satisfied: jinja2 in /usr/local/lib/python3.10/dist-packages (from torch>=1.0.0->fastai==1.0.61) (3.1.2)\n",
            "Requirement already satisfied: triton==2.0.0 in /usr/local/lib/python3.10/dist-packages (from torch>=1.0.0->fastai==1.0.61) (2.0.0)\n",
            "Requirement already satisfied: cmake in /usr/local/lib/python3.10/dist-packages (from triton==2.0.0->torch>=1.0.0->fastai==1.0.61) (3.25.2)\n",
            "Requirement already satisfied: lit in /usr/local/lib/python3.10/dist-packages (from triton==2.0.0->torch>=1.0.0->fastai==1.0.61) (16.0.6)\n",
            "Requirement already satisfied: soupsieve>1.2 in /usr/local/lib/python3.10/dist-packages (from beautifulsoup4->fastai==1.0.61) (2.4.1)\n",
            "Requirement already satisfied: contourpy>=1.0.1 in /usr/local/lib/python3.10/dist-packages (from matplotlib->fastai==1.0.61) (1.1.0)\n",
            "Requirement already satisfied: cycler>=0.10 in /usr/local/lib/python3.10/dist-packages (from matplotlib->fastai==1.0.61) (0.11.0)\n",
            "Requirement already satisfied: fonttools>=4.22.0 in /usr/local/lib/python3.10/dist-packages (from matplotlib->fastai==1.0.61) (4.41.1)\n",
            "Requirement already satisfied: kiwisolver>=1.0.1 in /usr/local/lib/python3.10/dist-packages (from matplotlib->fastai==1.0.61) (1.4.4)\n",
            "Requirement already satisfied: pyparsing>=2.3.1 in /usr/local/lib/python3.10/dist-packages (from matplotlib->fastai==1.0.61) (3.1.0)\n",
            "Requirement already satisfied: python-dateutil>=2.7 in /usr/local/lib/python3.10/dist-packages (from matplotlib->fastai==1.0.61) (2.8.2)\n",
            "Requirement already satisfied: pytz>=2020.1 in /usr/local/lib/python3.10/dist-packages (from pandas->fastai==1.0.61) (2022.7.1)\n",
            "Requirement already satisfied: urllib3<1.27,>=1.21.1 in /usr/local/lib/python3.10/dist-packages (from requests->fastai==1.0.61) (1.26.16)\n",
            "Requirement already satisfied: certifi>=2017.4.17 in /usr/local/lib/python3.10/dist-packages (from requests->fastai==1.0.61) (2023.7.22)\n",
            "Requirement already satisfied: charset-normalizer~=2.0.0 in /usr/local/lib/python3.10/dist-packages (from requests->fastai==1.0.61) (2.0.12)\n",
            "Requirement already satisfied: idna<4,>=2.5 in /usr/local/lib/python3.10/dist-packages (from requests->fastai==1.0.61) (3.4)\n",
            "Requirement already satisfied: six>=1.5 in /usr/local/lib/python3.10/dist-packages (from python-dateutil>=2.7->matplotlib->fastai==1.0.61) (1.16.0)\n",
            "Requirement already satisfied: MarkupSafe>=2.0 in /usr/local/lib/python3.10/dist-packages (from jinja2->torch>=1.0.0->fastai==1.0.61) (2.1.3)\n",
            "Requirement already satisfied: mpmath>=0.19 in /usr/local/lib/python3.10/dist-packages (from sympy->torch>=1.0.0->fastai==1.0.61) (1.3.0)\n",
            "Building wheels for collected packages: nvidia-ml-py3\n",
            "  Building wheel for nvidia-ml-py3 (setup.py) ... \u001b[?25l\u001b[?25hdone\n",
            "  Created wheel for nvidia-ml-py3: filename=nvidia_ml_py3-7.352.0-py3-none-any.whl size=19171 sha256=976230558d00580a676a97634536cd8d6d970ba4c3b6e3e654ab61a7b241f0c6\n",
            "  Stored in directory: /root/.cache/pip/wheels/5c/d8/c0/46899f8be7a75a2ffd197a23c8797700ea858b9b34819fbf9e\n",
            "Successfully built nvidia-ml-py3\n",
            "Installing collected packages: nvidia-ml-py3, bottleneck, fastai\n",
            "  Attempting uninstall: fastai\n",
            "    Found existing installation: fastai 2.7.12\n",
            "    Uninstalling fastai-2.7.12:\n",
            "      Successfully uninstalled fastai-2.7.12\n",
            "Successfully installed bottleneck-1.3.7 fastai-1.0.61 nvidia-ml-py3-7.352.0\n"
          ]
        }
      ]
    },
    {
      "cell_type": "code",
      "source": [
        "!pip install spacy==2.3.9"
      ],
      "metadata": {
        "colab": {
          "base_uri": "https://localhost:8080/"
        },
        "id": "uUYlc65nZqpM",
        "outputId": "51c1afc0-f0d9-4977-e1f2-c2e81b6d54e3"
      },
      "execution_count": null,
      "outputs": [
        {
          "output_type": "stream",
          "name": "stdout",
          "text": [
            "Collecting spacy==2.3.9\n",
            "  Downloading spacy-2.3.9-cp310-cp310-manylinux_2_17_x86_64.manylinux2014_x86_64.whl (4.9 MB)\n",
            "\u001b[2K     \u001b[90m━━━━━━━━━━━━━━━━━━━━━━━━━━━━━━━━━━━━━━━━\u001b[0m \u001b[32m4.9/4.9 MB\u001b[0m \u001b[31m44.6 MB/s\u001b[0m eta \u001b[36m0:00:00\u001b[0m\n",
            "\u001b[?25hRequirement already satisfied: murmurhash<1.1.0,>=0.28.0 in /usr/local/lib/python3.10/dist-packages (from spacy==2.3.9) (1.0.9)\n",
            "Requirement already satisfied: cymem<2.1.0,>=2.0.2 in /usr/local/lib/python3.10/dist-packages (from spacy==2.3.9) (2.0.7)\n",
            "Requirement already satisfied: preshed<3.1.0,>=3.0.2 in /usr/local/lib/python3.10/dist-packages (from spacy==2.3.9) (3.0.8)\n",
            "Collecting thinc<7.5.0,>=7.4.1 (from spacy==2.3.9)\n",
            "  Downloading thinc-7.4.6-cp310-cp310-manylinux_2_17_x86_64.manylinux2014_x86_64.whl (1.0 MB)\n",
            "\u001b[2K     \u001b[90m━━━━━━━━━━━━━━━━━━━━━━━━━━━━━━━━━━━━━━━━\u001b[0m \u001b[32m1.0/1.0 MB\u001b[0m \u001b[31m53.0 MB/s\u001b[0m eta \u001b[36m0:00:00\u001b[0m\n",
            "\u001b[?25hRequirement already satisfied: blis<0.8.0,>=0.4.0 in /usr/local/lib/python3.10/dist-packages (from spacy==2.3.9) (0.7.10)\n",
            "Collecting wasabi<1.1.0,>=0.4.0 (from spacy==2.3.9)\n",
            "  Downloading wasabi-0.10.1-py3-none-any.whl (26 kB)\n",
            "Collecting srsly<1.1.0,>=1.0.2 (from spacy==2.3.9)\n",
            "  Downloading srsly-1.0.7-cp310-cp310-manylinux_2_17_x86_64.manylinux2014_x86_64.whl (369 kB)\n",
            "\u001b[2K     \u001b[90m━━━━━━━━━━━━━━━━━━━━━━━━━━━━━━━━━━━━━━\u001b[0m \u001b[32m369.2/369.2 kB\u001b[0m \u001b[31m34.7 MB/s\u001b[0m eta \u001b[36m0:00:00\u001b[0m\n",
            "\u001b[?25hCollecting catalogue<1.1.0,>=0.0.7 (from spacy==2.3.9)\n",
            "  Downloading catalogue-1.0.2-py2.py3-none-any.whl (16 kB)\n",
            "Requirement already satisfied: tqdm<5.0.0,>=4.38.0 in /usr/local/lib/python3.10/dist-packages (from spacy==2.3.9) (4.65.0)\n",
            "Requirement already satisfied: setuptools in /usr/local/lib/python3.10/dist-packages (from spacy==2.3.9) (67.7.2)\n",
            "Requirement already satisfied: numpy>=1.15.0 in /usr/local/lib/python3.10/dist-packages (from spacy==2.3.9) (1.22.4)\n",
            "Collecting plac<1.2.0,>=0.9.6 (from spacy==2.3.9)\n",
            "  Downloading plac-1.1.3-py2.py3-none-any.whl (20 kB)\n",
            "Requirement already satisfied: requests<3.0.0,>=2.13.0 in /usr/local/lib/python3.10/dist-packages (from spacy==2.3.9) (2.27.1)\n",
            "Requirement already satisfied: urllib3<1.27,>=1.21.1 in /usr/local/lib/python3.10/dist-packages (from requests<3.0.0,>=2.13.0->spacy==2.3.9) (1.26.16)\n",
            "Requirement already satisfied: certifi>=2017.4.17 in /usr/local/lib/python3.10/dist-packages (from requests<3.0.0,>=2.13.0->spacy==2.3.9) (2023.7.22)\n",
            "Requirement already satisfied: charset-normalizer~=2.0.0 in /usr/local/lib/python3.10/dist-packages (from requests<3.0.0,>=2.13.0->spacy==2.3.9) (2.0.12)\n",
            "Requirement already satisfied: idna<4,>=2.5 in /usr/local/lib/python3.10/dist-packages (from requests<3.0.0,>=2.13.0->spacy==2.3.9) (3.4)\n",
            "Installing collected packages: wasabi, plac, srsly, catalogue, thinc, spacy\n",
            "  Attempting uninstall: wasabi\n",
            "    Found existing installation: wasabi 1.1.2\n",
            "    Uninstalling wasabi-1.1.2:\n",
            "      Successfully uninstalled wasabi-1.1.2\n",
            "  Attempting uninstall: srsly\n",
            "    Found existing installation: srsly 2.4.7\n",
            "    Uninstalling srsly-2.4.7:\n",
            "      Successfully uninstalled srsly-2.4.7\n",
            "  Attempting uninstall: catalogue\n",
            "    Found existing installation: catalogue 2.0.9\n",
            "    Uninstalling catalogue-2.0.9:\n",
            "      Successfully uninstalled catalogue-2.0.9\n",
            "  Attempting uninstall: thinc\n",
            "    Found existing installation: thinc 8.1.10\n",
            "    Uninstalling thinc-8.1.10:\n",
            "      Successfully uninstalled thinc-8.1.10\n",
            "  Attempting uninstall: spacy\n",
            "    Found existing installation: spacy 3.5.4\n",
            "    Uninstalling spacy-3.5.4:\n",
            "      Successfully uninstalled spacy-3.5.4\n",
            "\u001b[31mERROR: pip's dependency resolver does not currently take into account all the packages that are installed. This behaviour is the source of the following dependency conflicts.\n",
            "confection 0.1.0 requires srsly<3.0.0,>=2.4.0, but you have srsly 1.0.7 which is incompatible.\n",
            "en-core-web-sm 3.5.0 requires spacy<3.6.0,>=3.5.0, but you have spacy 2.3.9 which is incompatible.\u001b[0m\u001b[31m\n",
            "\u001b[0mSuccessfully installed catalogue-1.0.2 plac-1.1.3 spacy-2.3.9 srsly-1.0.7 thinc-7.4.6 wasabi-0.10.1\n"
          ]
        }
      ]
    },
    {
      "cell_type": "code",
      "source": [
        "!pip show spacy"
      ],
      "metadata": {
        "colab": {
          "base_uri": "https://localhost:8080/"
        },
        "id": "QSzX31poFdLP",
        "outputId": "01bcee9c-4e99-4302-a2c8-3a17d638cc19"
      },
      "execution_count": null,
      "outputs": [
        {
          "output_type": "stream",
          "name": "stdout",
          "text": [
            "Name: spacy\n",
            "Version: 2.3.9\n",
            "Summary: Industrial-strength Natural Language Processing (NLP) in Python\n",
            "Home-page: https://spacy.io\n",
            "Author: Explosion\n",
            "Author-email: contact@explosion.ai\n",
            "License: MIT\n",
            "Location: /usr/local/lib/python3.10/dist-packages\n",
            "Requires: blis, catalogue, cymem, murmurhash, numpy, plac, preshed, requests, setuptools, srsly, thinc, tqdm, wasabi\n",
            "Required-by: en-core-web-sm\n"
          ]
        }
      ]
    },
    {
      "cell_type": "code",
      "source": [
        "!pip install colormap"
      ],
      "metadata": {
        "colab": {
          "base_uri": "https://localhost:8080/"
        },
        "id": "q8s0-q5kv680",
        "outputId": "e22c0be4-d424-4760-e0f7-801ba9d52790"
      },
      "execution_count": null,
      "outputs": [
        {
          "output_type": "stream",
          "name": "stdout",
          "text": [
            "Collecting colormap\n",
            "  Downloading colormap-1.0.4.tar.gz (17 kB)\n",
            "  Preparing metadata (setup.py) ... \u001b[?25l\u001b[?25hdone\n",
            "Building wheels for collected packages: colormap\n",
            "  Building wheel for colormap (setup.py) ... \u001b[?25l\u001b[?25hdone\n",
            "  Created wheel for colormap: filename=colormap-1.0.4-py3-none-any.whl size=15629 sha256=5ed1aebd55d736c78630a3fd7798f8effa03bb94bed019a5a847662137dbae55\n",
            "  Stored in directory: /root/.cache/pip/wheels/bb/25/18/6b007d77ac1220e0530efa2af14569bb803d77f140366fb313\n",
            "Successfully built colormap\n",
            "Installing collected packages: colormap\n",
            "Successfully installed colormap-1.0.4\n"
          ]
        }
      ]
    },
    {
      "cell_type": "markdown",
      "source": [
        "## Carregamento das bibliotecas"
      ],
      "metadata": {
        "id": "5a8ayp3qJOvg"
      }
    },
    {
      "cell_type": "code",
      "execution_count": null,
      "metadata": {
        "id": "0rh4drzDNGO2"
      },
      "outputs": [],
      "source": [
        "import pickle\n",
        "from google.colab import drive\n",
        "import os\n",
        "import IPython\n",
        "from fastai import *\n",
        "from fastai.text import *\n",
        "from fastai.callbacks import *\n",
        "from multiprocessing import cpu_count\n",
        "from fastai.utils.ipython import *\n",
        "from fastai.basics import *\n",
        "import re\n",
        "import warnings\n",
        "import wandb\n",
        "from fastai.metrics import *\n",
        "from fastai.metrics import CMScores\n",
        "from sklearn.metrics import balanced_accuracy_score\n",
        "from sklearn.metrics import f1_score\n",
        "from sklearn.metrics import matthews_corrcoef\n",
        "from datetime import datetime, timedelta\n",
        "import matplotlib.cm as cm\n",
        "import time\n",
        "%matplotlib inline"
      ]
    },
    {
      "cell_type": "markdown",
      "source": [
        "## Nome do treinamento e locais de salvamento"
      ],
      "metadata": {
        "id": "YDcix22ltjzf"
      }
    },
    {
      "cell_type": "code",
      "source": [
        "path_dados = '' #path com dados do dataset pre-processados\n",
        "path_model = '' #path do model ULMFiT\n",
        "path_results = path_model + 'ulmfit_victor_finetunned/'\n",
        "path_corpus = ''\n",
        "#Montando o google drive para obter os dados\n",
        "drive.mount('/content/drive/')"
      ],
      "metadata": {
        "id": "a8VMKEg1Pzqk",
        "colab": {
          "base_uri": "https://localhost:8080/"
        },
        "outputId": "062e063b-f530-4228-bb1f-a7cdd25c726c"
      },
      "execution_count": null,
      "outputs": [
        {
          "output_type": "stream",
          "name": "stdout",
          "text": [
            "Mounted at /content/drive/\n"
          ]
        }
      ]
    },
    {
      "cell_type": "code",
      "source": [
        "def save_pickle(data_to_save,path='',filename='file.pkl'):\n",
        "  open_file = open(path + filename, \"wb\")\n",
        "  pickle.dump(data_to_save, open_file)\n",
        "  open_file.close()\n",
        "\n",
        "def load_pickle(path='',filename='file.pkl'):\n",
        "  open_file = open(path + filename, \"rb\")\n",
        "  pkl_file = pickle.load(open_file)\n",
        "  open_file.close()\n",
        "  return pkl_file"
      ],
      "metadata": {
        "id": "d0Yje6YqRKT1"
      },
      "execution_count": null,
      "outputs": []
    },
    {
      "cell_type": "code",
      "source": [
        "CLASSIFICADOR = 'ULMFiT-FT'\n",
        "DIRECTION = 'FW'\n",
        "BATCH_SIZE = 32\n",
        "EPOCHS = 12\n",
        "FT = 'VICTOR'\n",
        "WD = 0.01\n",
        "BPTT = 70\n",
        "NOME_RUNNING = f'{CLASSIFICADOR}-{FT}-{DIRECTION}-{BATCH_SIZE}-{BPTT}-{EPOCHS}'\n",
        "experiment = {'CLASSIFICADOR':CLASSIFICADOR,'FINE_TUNNING':FT,'BATCH_SIZE':BATCH_SIZE,'BPTT':BPTT,'WD':WD,'EPOCHS':EPOCHS,'HISTORY_FILE':f'{NOME_RUNNING}'}\n",
        "path_experiment = path_results + NOME_RUNNING\n",
        "NOME_RUNNING, path_experiment"
      ],
      "metadata": {
        "id": "bSKEKwawlAME"
      },
      "execution_count": null,
      "outputs": []
    },
    {
      "cell_type": "code",
      "source": [
        "if not os.path.exists(path_experiment):\n",
        "  os.makedirs(path_experiment)"
      ],
      "metadata": {
        "id": "QUtmgkZClL6p"
      },
      "execution_count": null,
      "outputs": []
    },
    {
      "cell_type": "code",
      "source": [
        "bs = BATCH_SIZE\n",
        "data_path = Path(path_model)\n",
        "print(data_path)"
      ],
      "metadata": {
        "colab": {
          "base_uri": "https://localhost:8080/"
        },
        "id": "xCdMETUFPu8I",
        "outputId": "ff183080-3313-43d0-da6e-5d2b626f51a1"
      },
      "execution_count": null,
      "outputs": [
        {
          "output_type": "stream",
          "name": "stdout",
          "text": [
            "drive/MyDrive/MestradoTucurui/Experiments/ULMFiT\n"
          ]
        }
      ]
    },
    {
      "cell_type": "code",
      "source": [
        "lang = 'pt'\n",
        "\n",
        "path = data_path\n",
        "\n",
        "modelsdir = path/Path('ulmfit_portuguese/')\n",
        "\n",
        "lm_fns2_fwd = [f'{modelsdir}/{lang}_wt_60k_ulmfit_fwd', f'{modelsdir}/{lang}_wt_vocab_60k_ulmfit_fwd']\n",
        "print(lm_fns2_fwd)"
      ],
      "metadata": {
        "id": "2npEAD-eQFuz"
      },
      "execution_count": null,
      "outputs": []
    },
    {
      "cell_type": "code",
      "source": [
        "torch.cuda.set_device(0)\n",
        "!nvidia-smi"
      ],
      "metadata": {
        "id": "eZveIqBOQgRT"
      },
      "execution_count": null,
      "outputs": []
    },
    {
      "cell_type": "code",
      "source": [
        "import warnings\n",
        "warnings.filterwarnings('ignore')"
      ],
      "metadata": {
        "id": "erTv6SlkQ_yp"
      },
      "execution_count": null,
      "outputs": []
    },
    {
      "cell_type": "code",
      "source": [
        "import joblib\n",
        "if DIRECTION == 'FW':\n",
        "  with open(path / 'ulmfit_portuguese/vocab-fwd.joblib', \"rb\") as f:\n",
        "    vocab = joblib.load(f)\n",
        "else:\n",
        "  with open(path / 'ulmfit_portuguese/vocab-bwd.joblib', \"rb\") as f:\n",
        "    vocab = joblib.load(f)\n"
      ],
      "metadata": {
        "id": "kS_EyPulShsa"
      },
      "execution_count": null,
      "outputs": []
    },
    {
      "cell_type": "code",
      "source": [
        "import gc\n",
        "gc.collect()"
      ],
      "metadata": {
        "colab": {
          "base_uri": "https://localhost:8080/"
        },
        "id": "8CzSL2PJV-N8",
        "outputId": "68b26281-15f4-45ff-cd38-7d257c4277c6"
      },
      "execution_count": null,
      "outputs": [
        {
          "output_type": "execute_result",
          "data": {
            "text/plain": [
              "65"
            ]
          },
          "metadata": {},
          "execution_count": 66
        }
      ]
    },
    {
      "cell_type": "markdown",
      "source": [
        "## Carregamento dos Dados"
      ],
      "metadata": {
        "id": "9vQE693IIyJj"
      }
    },
    {
      "cell_type": "code",
      "source": [
        "doc_train = load_pickle(path = path_dados,filename='train_processed_concat_pages_sw.pkl')\n",
        "doc_valid = load_pickle(path = path_dados,filename='valid_processed_concat_pages_sw.pkl')"
      ],
      "metadata": {
        "id": "cWUguVJs9qIt"
      },
      "execution_count": null,
      "outputs": []
    },
    {
      "cell_type": "code",
      "source": [
        "doc_train.rename(columns={'body':'text','document_type':'label'},inplace=True)\n",
        "doc_valid.rename(columns={'body':'text','document_type':'label'},inplace=True)\n",
        "doc_valid = doc_valid.sample(frac = 0.1, replace = False) #Pegando apenas 10% dos dados de validação"
      ],
      "metadata": {
        "id": "tGktVJqTRH9_"
      },
      "execution_count": null,
      "outputs": []
    },
    {
      "cell_type": "code",
      "source": [
        "len(doc_train),len(doc_valid)"
      ],
      "metadata": {
        "colab": {
          "base_uri": "https://localhost:8080/"
        },
        "id": "wiXsSe_e-JMh",
        "outputId": "2e97b0eb-db9d-4f4e-d69e-76b3588af028"
      },
      "execution_count": null,
      "outputs": [
        {
          "output_type": "execute_result",
          "data": {
            "text/plain": [
              "(38815, 2545)"
            ]
          },
          "metadata": {},
          "execution_count": 32
        }
      ]
    },
    {
      "cell_type": "markdown",
      "source": [
        "## Montagem dos datasets para treinamento"
      ],
      "metadata": {
        "id": "ZqQk-QAEuZrI"
      }
    },
    {
      "cell_type": "code",
      "source": [
        "doc_train['is_valid'] = False\n",
        "doc_valid['is_valid'] = True\n",
        "df_train = doc_train.append(doc_valid,ignore_index=True)\n",
        "df_train.columns"
      ],
      "metadata": {
        "colab": {
          "base_uri": "https://localhost:8080/"
        },
        "id": "Y7VdjjvYV1-O",
        "outputId": "359e781e-2e57-4ee1-c111-f496f6ef02b3"
      },
      "execution_count": null,
      "outputs": [
        {
          "output_type": "execute_result",
          "data": {
            "text/plain": [
              "Index(['file_name', 'text', 'pages', 'label', 'is_valid'], dtype='object')"
            ]
          },
          "metadata": {},
          "execution_count": 33
        }
      ]
    },
    {
      "cell_type": "code",
      "source": [
        "%%time\n",
        "backwards = True if DIRECTION == 'BW' else False\n",
        "data_fine = (TextList.from_df(df_train, path_experiment, vocab=vocab, cols='text').split_from_df(col='is_valid').label_for_lm().databunch(bs=bs, num_workers=14, backwards=backwards,bptt=BPTT))"
      ],
      "metadata": {
        "colab": {
          "base_uri": "https://localhost:8080/",
          "height": 52
        },
        "id": "rB9Iefid4mGz",
        "outputId": "ceb0cd8e-0fe8-48b9-ecc3-60bc945f8645"
      },
      "execution_count": null,
      "outputs": [
        {
          "output_type": "display_data",
          "data": {
            "text/plain": [
              "<IPython.core.display.HTML object>"
            ],
            "text/html": [
              "\n",
              "<style>\n",
              "    /* Turns off some styling */\n",
              "    progress {\n",
              "        /* gets rid of default border in Firefox and Opera. */\n",
              "        border: none;\n",
              "        /* Needs to be in here for Safari polyfill so background images work as expected. */\n",
              "        background-size: auto;\n",
              "    }\n",
              "    progress:not([value]), progress:not([value])::-webkit-progress-bar {\n",
              "        background: repeating-linear-gradient(45deg, #7e7e7e, #7e7e7e 10px, #5c5c5c 10px, #5c5c5c 20px);\n",
              "    }\n",
              "    .progress-bar-interrupted, .progress-bar-interrupted::-webkit-progress-bar {\n",
              "        background: #F44336;\n",
              "    }\n",
              "</style>\n"
            ]
          },
          "metadata": {}
        },
        {
          "output_type": "display_data",
          "data": {
            "text/plain": [
              "<IPython.core.display.HTML object>"
            ],
            "text/html": []
          },
          "metadata": {}
        },
        {
          "output_type": "display_data",
          "data": {
            "text/plain": [
              "<IPython.core.display.HTML object>"
            ],
            "text/html": [
              "\n",
              "<style>\n",
              "    /* Turns off some styling */\n",
              "    progress {\n",
              "        /* gets rid of default border in Firefox and Opera. */\n",
              "        border: none;\n",
              "        /* Needs to be in here for Safari polyfill so background images work as expected. */\n",
              "        background-size: auto;\n",
              "    }\n",
              "    progress:not([value]), progress:not([value])::-webkit-progress-bar {\n",
              "        background: repeating-linear-gradient(45deg, #7e7e7e, #7e7e7e 10px, #5c5c5c 10px, #5c5c5c 20px);\n",
              "    }\n",
              "    .progress-bar-interrupted, .progress-bar-interrupted::-webkit-progress-bar {\n",
              "        background: #F44336;\n",
              "    }\n",
              "</style>\n"
            ]
          },
          "metadata": {}
        },
        {
          "output_type": "display_data",
          "data": {
            "text/plain": [
              "<IPython.core.display.HTML object>"
            ],
            "text/html": []
          },
          "metadata": {}
        },
        {
          "output_type": "stream",
          "name": "stdout",
          "text": [
            "CPU times: user 10.4 s, sys: 3.58 s, total: 14 s\n",
            "Wall time: 1min 55s\n"
          ]
        }
      ]
    },
    {
      "cell_type": "code",
      "source": [
        "data_fine.show_batch()"
      ],
      "metadata": {
        "id": "tw4hjbKYnvjv"
      },
      "execution_count": null,
      "outputs": []
    },
    {
      "cell_type": "code",
      "source": [
        "data_fine.export(f'export_textlist_60k_ulmfit_{DIRECTION}.pkl')"
      ],
      "metadata": {
        "id": "yKDlZA-S54od"
      },
      "execution_count": null,
      "outputs": []
    },
    {
      "cell_type": "code",
      "source": [
        "%%time\n",
        "data_fine.save(f'textlist_60k_ulmfit_{DIRECTION}.pkl')"
      ],
      "metadata": {
        "id": "i_8MsIk9a0ch"
      },
      "execution_count": null,
      "outputs": []
    },
    {
      "cell_type": "markdown",
      "source": [
        "## Cáculo de métricas"
      ],
      "metadata": {
        "id": "3aGPy4D-u1AY"
      }
    },
    {
      "cell_type": "code",
      "source": [
        "perplexity = Perplexity()"
      ],
      "metadata": {
        "id": "AnKRiR57PtT7"
      },
      "execution_count": null,
      "outputs": []
    },
    {
      "cell_type": "markdown",
      "source": [
        "## Carregamento do modelo pré-treinado"
      ],
      "metadata": {
        "id": "2vcFb13uvBHi"
      }
    },
    {
      "cell_type": "code",
      "source": [
        "drop_mult = 0.5\n",
        "opt_func = partial(optim.Adam, betas = (0.8, 0.99))"
      ],
      "metadata": {
        "id": "50OCI-SNsuo1"
      },
      "execution_count": null,
      "outputs": []
    },
    {
      "cell_type": "code",
      "source": [
        "#para carregamento de modelo pré-treinado\n",
        "pretrained = ['ULMFiT-FT-VICTOR-FW-32-70-12', f'{lang}_wt_vocab_60k_ulmfit_fwd']\n",
        "learn = language_model_learner(data_fine, AWD_LSTM,drop_mult=drop_mult, pretrained=True, metrics=[error_rate, accuracy, perplexity],opt_func=opt_func,pretrained_fnames=pretrained).to_fp16()"
      ],
      "metadata": {
        "id": "r4OWiOP-6lIn"
      },
      "execution_count": null,
      "outputs": []
    },
    {
      "cell_type": "code",
      "source": [
        "learn = language_model_learner(data_fine, AWD_LSTM,drop_mult=drop_mult, pretrained=True, metrics=[error_rate, accuracy, perplexity],opt_func=opt_func,pretrained_fnames=lm_fns2_bwd).to_fp16()"
      ],
      "metadata": {
        "id": "trRE7Fbtslnx"
      },
      "execution_count": null,
      "outputs": []
    },
    {
      "cell_type": "code",
      "source": [
        "from torch.autograd import backward"
      ],
      "metadata": {
        "id": "2oLMem93dBjy"
      },
      "execution_count": null,
      "outputs": []
    },
    {
      "cell_type": "markdown",
      "source": [
        "### Definindo Callbacks"
      ],
      "metadata": {
        "id": "4ivvjR1s0X3r"
      }
    },
    {
      "cell_type": "code",
      "source": [
        "callbacks = [CSVLogger(learn,filename=experiment['HISTORY_FILE'],append=True),ShowGraph(learn),SaveModelCallback(learn,monitor='perplexity', name=NOME_RUNNING, mode='min')]"
      ],
      "metadata": {
        "id": "_a3Q5rFt0Xma"
      },
      "execution_count": null,
      "outputs": []
    },
    {
      "cell_type": "markdown",
      "source": [
        "### Identificando o melhor parâmetro de taxa de aprendizado"
      ],
      "metadata": {
        "id": "BcNKNqQC6g6g"
      }
    },
    {
      "cell_type": "code",
      "source": [
        "with gpu_mem_restore_ctx():\n",
        "    learn.lr_find()\n",
        "learn.recorder.plot(suggestion=True)"
      ],
      "metadata": {
        "id": "xkuSSEvwewkN"
      },
      "execution_count": null,
      "outputs": []
    },
    {
      "cell_type": "code",
      "source": [
        "lr = 1e-3\n",
        "print(lr, bs)\n",
        "wd = WD\n",
        "experiment['lr'] = lr\n",
        "print(wd)"
      ],
      "metadata": {
        "colab": {
          "base_uri": "https://localhost:8080/"
        },
        "id": "j9s6-Mz_gJMi",
        "outputId": "74d9d14a-1f85-480a-fb14-529e3b3dc58f"
      },
      "execution_count": null,
      "outputs": [
        {
          "output_type": "stream",
          "name": "stdout",
          "text": [
            "0.001 32\n",
            "0.01\n"
          ]
        }
      ]
    },
    {
      "cell_type": "code",
      "source": [
        "lrm = 2.6\n",
        "lrs = np.array([lr/(lrm**3), lr/(lrm**2), lr/lrm, lr])"
      ],
      "metadata": {
        "id": "Z2ecUksA3k98"
      },
      "execution_count": null,
      "outputs": []
    },
    {
      "cell_type": "markdown",
      "source": [
        "## Executando uma primeira época com as camadas internas congeladas"
      ],
      "metadata": {
        "id": "wH0SjwM2y8dR"
      }
    },
    {
      "cell_type": "code",
      "source": [
        "learn.freeze_to(-1)\n",
        "lr = 1e-3\n",
        "learn.fit_one_cycle(1, lr, wd=0.1, moms=(0.8,0.99),callbacks=callbacks)"
      ],
      "metadata": {
        "id": "pkajBrM1y7xQ"
      },
      "execution_count": null,
      "outputs": []
    },
    {
      "cell_type": "markdown",
      "source": [
        "## Executando as demais épocas com todas as camadas descongeladas"
      ],
      "metadata": {
        "id": "SH7E4Zu-A_7p"
      }
    },
    {
      "cell_type": "code",
      "source": [
        "learn.unfreeze();"
      ],
      "metadata": {
        "id": "5R8OCOgzgtwH"
      },
      "execution_count": null,
      "outputs": []
    },
    {
      "cell_type": "code",
      "source": [
        "tempo1 = time.time()\n",
        "with gpu_mem_restore_ctx():\n",
        "    learn.fit_one_cycle(5, lrs, wd=wd,\n",
        "                          moms=(0.8,0.7),\n",
        "                          callbacks=callbacks,final_div=25000)"
      ],
      "metadata": {
        "id": "ELlNw1UwgwWY"
      },
      "execution_count": null,
      "outputs": []
    },
    {
      "cell_type": "code",
      "source": [
        "total_time = time.time() - tempo1"
      ],
      "metadata": {
        "id": "NKJD90js3ubh"
      },
      "execution_count": null,
      "outputs": []
    },
    {
      "cell_type": "code",
      "source": [
        "learn.save('ft_victor_fw')\n",
        "learn.save_encoder('encoder_ft_victor_fw')\n",
        "learn.export('export_ft_victor_fw')"
      ],
      "metadata": {
        "id": "3Ls00khr31mU"
      },
      "execution_count": null,
      "outputs": []
    }
  ]
}